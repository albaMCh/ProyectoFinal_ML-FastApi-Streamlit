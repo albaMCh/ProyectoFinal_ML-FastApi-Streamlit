{
  "nbformat": 4,
  "nbformat_minor": 0,
  "metadata": {
    "colab": {
      "provenance": [],
      "authorship_tag": "ABX9TyPgMtmpxZRDLxBFC7MY6wUD",
      "include_colab_link": true
    },
    "kernelspec": {
      "name": "python3",
      "display_name": "Python 3"
    },
    "language_info": {
      "name": "python"
    },
    "widgets": {
      "application/vnd.jupyter.widget-state+json": {
        "53dc546dd17c44afa26dd355974ccc1c": {
          "model_module": "@jupyter-widgets/controls",
          "model_name": "HBoxModel",
          "model_module_version": "1.5.0",
          "state": {
            "_dom_classes": [],
            "_model_module": "@jupyter-widgets/controls",
            "_model_module_version": "1.5.0",
            "_model_name": "HBoxModel",
            "_view_count": null,
            "_view_module": "@jupyter-widgets/controls",
            "_view_module_version": "1.5.0",
            "_view_name": "HBoxView",
            "box_style": "",
            "children": [
              "IPY_MODEL_505ce13c710346e49252429601ce2076",
              "IPY_MODEL_810e57e0b1a64cbfb9c132165d14d270",
              "IPY_MODEL_65934015b91e420d924c7fa3ad9f6356"
            ],
            "layout": "IPY_MODEL_58c9b31e724545b29ca1c8a01e06f1dd"
          }
        },
        "505ce13c710346e49252429601ce2076": {
          "model_module": "@jupyter-widgets/controls",
          "model_name": "HTMLModel",
          "model_module_version": "1.5.0",
          "state": {
            "_dom_classes": [],
            "_model_module": "@jupyter-widgets/controls",
            "_model_module_version": "1.5.0",
            "_model_name": "HTMLModel",
            "_view_count": null,
            "_view_module": "@jupyter-widgets/controls",
            "_view_module_version": "1.5.0",
            "_view_name": "HTMLView",
            "description": "",
            "description_tooltip": null,
            "layout": "IPY_MODEL_4021a15b310348699da5a087b8b1a6ce",
            "placeholder": "​",
            "style": "IPY_MODEL_a6104bc8c1d041b8948382af0d82ee12",
            "value": "Processing: 100%"
          }
        },
        "810e57e0b1a64cbfb9c132165d14d270": {
          "model_module": "@jupyter-widgets/controls",
          "model_name": "FloatProgressModel",
          "model_module_version": "1.5.0",
          "state": {
            "_dom_classes": [],
            "_model_module": "@jupyter-widgets/controls",
            "_model_module_version": "1.5.0",
            "_model_name": "FloatProgressModel",
            "_view_count": null,
            "_view_module": "@jupyter-widgets/controls",
            "_view_module_version": "1.5.0",
            "_view_name": "ProgressView",
            "bar_style": "",
            "description": "",
            "description_tooltip": null,
            "layout": "IPY_MODEL_2453dafd77894370a48deac299084b78",
            "max": 69,
            "min": 0,
            "orientation": "horizontal",
            "style": "IPY_MODEL_bf5534706cdb4a79ad377be68cdc3085",
            "value": 69
          }
        },
        "65934015b91e420d924c7fa3ad9f6356": {
          "model_module": "@jupyter-widgets/controls",
          "model_name": "HTMLModel",
          "model_module_version": "1.5.0",
          "state": {
            "_dom_classes": [],
            "_model_module": "@jupyter-widgets/controls",
            "_model_module_version": "1.5.0",
            "_model_name": "HTMLModel",
            "_view_count": null,
            "_view_module": "@jupyter-widgets/controls",
            "_view_module_version": "1.5.0",
            "_view_name": "HTMLView",
            "description": "",
            "description_tooltip": null,
            "layout": "IPY_MODEL_f163fdaf74764912ad50ad9c6d6c67ce",
            "placeholder": "​",
            "style": "IPY_MODEL_33f9643d71f14800910301ac5af53797",
            "value": " 69/69 [02:53&lt;00:00,  1.79s/it]"
          }
        },
        "58c9b31e724545b29ca1c8a01e06f1dd": {
          "model_module": "@jupyter-widgets/base",
          "model_name": "LayoutModel",
          "model_module_version": "1.2.0",
          "state": {
            "_model_module": "@jupyter-widgets/base",
            "_model_module_version": "1.2.0",
            "_model_name": "LayoutModel",
            "_view_count": null,
            "_view_module": "@jupyter-widgets/base",
            "_view_module_version": "1.2.0",
            "_view_name": "LayoutView",
            "align_content": null,
            "align_items": null,
            "align_self": null,
            "border": null,
            "bottom": null,
            "display": null,
            "flex": null,
            "flex_flow": null,
            "grid_area": null,
            "grid_auto_columns": null,
            "grid_auto_flow": null,
            "grid_auto_rows": null,
            "grid_column": null,
            "grid_gap": null,
            "grid_row": null,
            "grid_template_areas": null,
            "grid_template_columns": null,
            "grid_template_rows": null,
            "height": null,
            "justify_content": null,
            "justify_items": null,
            "left": null,
            "margin": null,
            "max_height": null,
            "max_width": null,
            "min_height": null,
            "min_width": null,
            "object_fit": null,
            "object_position": null,
            "order": null,
            "overflow": null,
            "overflow_x": null,
            "overflow_y": null,
            "padding": null,
            "right": null,
            "top": null,
            "visibility": "hidden",
            "width": null
          }
        },
        "4021a15b310348699da5a087b8b1a6ce": {
          "model_module": "@jupyter-widgets/base",
          "model_name": "LayoutModel",
          "model_module_version": "1.2.0",
          "state": {
            "_model_module": "@jupyter-widgets/base",
            "_model_module_version": "1.2.0",
            "_model_name": "LayoutModel",
            "_view_count": null,
            "_view_module": "@jupyter-widgets/base",
            "_view_module_version": "1.2.0",
            "_view_name": "LayoutView",
            "align_content": null,
            "align_items": null,
            "align_self": null,
            "border": null,
            "bottom": null,
            "display": null,
            "flex": null,
            "flex_flow": null,
            "grid_area": null,
            "grid_auto_columns": null,
            "grid_auto_flow": null,
            "grid_auto_rows": null,
            "grid_column": null,
            "grid_gap": null,
            "grid_row": null,
            "grid_template_areas": null,
            "grid_template_columns": null,
            "grid_template_rows": null,
            "height": null,
            "justify_content": null,
            "justify_items": null,
            "left": null,
            "margin": null,
            "max_height": null,
            "max_width": null,
            "min_height": null,
            "min_width": null,
            "object_fit": null,
            "object_position": null,
            "order": null,
            "overflow": null,
            "overflow_x": null,
            "overflow_y": null,
            "padding": null,
            "right": null,
            "top": null,
            "visibility": null,
            "width": null
          }
        },
        "a6104bc8c1d041b8948382af0d82ee12": {
          "model_module": "@jupyter-widgets/controls",
          "model_name": "DescriptionStyleModel",
          "model_module_version": "1.5.0",
          "state": {
            "_model_module": "@jupyter-widgets/controls",
            "_model_module_version": "1.5.0",
            "_model_name": "DescriptionStyleModel",
            "_view_count": null,
            "_view_module": "@jupyter-widgets/base",
            "_view_module_version": "1.2.0",
            "_view_name": "StyleView",
            "description_width": ""
          }
        },
        "2453dafd77894370a48deac299084b78": {
          "model_module": "@jupyter-widgets/base",
          "model_name": "LayoutModel",
          "model_module_version": "1.2.0",
          "state": {
            "_model_module": "@jupyter-widgets/base",
            "_model_module_version": "1.2.0",
            "_model_name": "LayoutModel",
            "_view_count": null,
            "_view_module": "@jupyter-widgets/base",
            "_view_module_version": "1.2.0",
            "_view_name": "LayoutView",
            "align_content": null,
            "align_items": null,
            "align_self": null,
            "border": null,
            "bottom": null,
            "display": null,
            "flex": null,
            "flex_flow": null,
            "grid_area": null,
            "grid_auto_columns": null,
            "grid_auto_flow": null,
            "grid_auto_rows": null,
            "grid_column": null,
            "grid_gap": null,
            "grid_row": null,
            "grid_template_areas": null,
            "grid_template_columns": null,
            "grid_template_rows": null,
            "height": null,
            "justify_content": null,
            "justify_items": null,
            "left": null,
            "margin": null,
            "max_height": null,
            "max_width": null,
            "min_height": null,
            "min_width": null,
            "object_fit": null,
            "object_position": null,
            "order": null,
            "overflow": null,
            "overflow_x": null,
            "overflow_y": null,
            "padding": null,
            "right": null,
            "top": null,
            "visibility": null,
            "width": null
          }
        },
        "bf5534706cdb4a79ad377be68cdc3085": {
          "model_module": "@jupyter-widgets/controls",
          "model_name": "ProgressStyleModel",
          "model_module_version": "1.5.0",
          "state": {
            "_model_module": "@jupyter-widgets/controls",
            "_model_module_version": "1.5.0",
            "_model_name": "ProgressStyleModel",
            "_view_count": null,
            "_view_module": "@jupyter-widgets/base",
            "_view_module_version": "1.2.0",
            "_view_name": "StyleView",
            "bar_color": null,
            "description_width": ""
          }
        },
        "f163fdaf74764912ad50ad9c6d6c67ce": {
          "model_module": "@jupyter-widgets/base",
          "model_name": "LayoutModel",
          "model_module_version": "1.2.0",
          "state": {
            "_model_module": "@jupyter-widgets/base",
            "_model_module_version": "1.2.0",
            "_model_name": "LayoutModel",
            "_view_count": null,
            "_view_module": "@jupyter-widgets/base",
            "_view_module_version": "1.2.0",
            "_view_name": "LayoutView",
            "align_content": null,
            "align_items": null,
            "align_self": null,
            "border": null,
            "bottom": null,
            "display": null,
            "flex": null,
            "flex_flow": null,
            "grid_area": null,
            "grid_auto_columns": null,
            "grid_auto_flow": null,
            "grid_auto_rows": null,
            "grid_column": null,
            "grid_gap": null,
            "grid_row": null,
            "grid_template_areas": null,
            "grid_template_columns": null,
            "grid_template_rows": null,
            "height": null,
            "justify_content": null,
            "justify_items": null,
            "left": null,
            "margin": null,
            "max_height": null,
            "max_width": null,
            "min_height": null,
            "min_width": null,
            "object_fit": null,
            "object_position": null,
            "order": null,
            "overflow": null,
            "overflow_x": null,
            "overflow_y": null,
            "padding": null,
            "right": null,
            "top": null,
            "visibility": null,
            "width": null
          }
        },
        "33f9643d71f14800910301ac5af53797": {
          "model_module": "@jupyter-widgets/controls",
          "model_name": "DescriptionStyleModel",
          "model_module_version": "1.5.0",
          "state": {
            "_model_module": "@jupyter-widgets/controls",
            "_model_module_version": "1.5.0",
            "_model_name": "DescriptionStyleModel",
            "_view_count": null,
            "_view_module": "@jupyter-widgets/base",
            "_view_module_version": "1.2.0",
            "_view_name": "StyleView",
            "description_width": ""
          }
        }
      }
    }
  },
  "cells": [
    {
      "cell_type": "markdown",
      "metadata": {
        "id": "view-in-github",
        "colab_type": "text"
      },
      "source": [
        "<a href=\"https://colab.research.google.com/github/albaMCh/ProyectoFinal_ML-FastApi-Streamlit/blob/master/Proyecto_para_clasificar_si_una_persona_puede_desarrollar_c%C3%A1ncer_en_base_a_sus_h%C3%A1bitos_de_vida.ipynb\" target=\"_parent\"><img src=\"https://colab.research.google.com/assets/colab-badge.svg\" alt=\"Open In Colab\"/></a>"
      ]
    },
    {
      "cell_type": "markdown",
      "source": [
        "# **Proyecto para clasificar si una persona puede desarrollar cáncer en base a sus hábitos de vida**"
      ],
      "metadata": {
        "id": "3mHZcEcEYnPy"
      }
    },
    {
      "cell_type": "markdown",
      "source": [
        "# **1. Introducción**\n",
        "Con este proyecto, vamos a establecer el objetivo de predecir si una persona va a desarrollar algún tipo de cáncer en base a sus dolencias y habitos de vida. Como ya sabemos hoy en día el cáncer es una de las enfermedades que más están afectando a nuestra sociedad, todo esto en muchas ocasiones puede venir determinado en cierto modos, por los habitos de vida que hemos desarrollado la sociedad actual ( consumo de alcohol, tabaco, sedentarismo, comida basura…). Para poder concienciar a la sociedad para cambiar sus habitos de vida y evitar de alguna forma esta enfermedad, sería muy interensante analizar los habitos de vida para informar a los pacientes si puede desarrollar esta enfermedad.. Para ello vamos a utilizar este dataset, el cual ha sido extraido del siguiente enlace:  https://data.world/cancerdatahp/lung-cancer-data/workspace/file?filename=cancer+patient+level%20data+sets.xlsx, en el cual podemos analizar en mil pacientes como afectan diferentes parámetros a las posibilidades de desarrollar cáncer."
      ],
      "metadata": {
        "id": "ReLtNNd7fH8z"
      }
    },
    {
      "cell_type": "markdown",
      "source": [
        "# **2**. **Metodología** \n",
        "\n",
        "La metodología empleada incluye el preprocesamiento de los datos, la selección y el entrenamiento de modelos de aprendizaje automático y finalmente la evaluación de los resultados obtenidos. Lo resultados nos permitirán conocer si una persona tiene más o menos posibilidad de desarrollar cáncer en base a sus habitos de vida.\n",
        "## **2.1 Metodología empleada**\n",
        "La metodología empleada en este proceso consta de cuatro etapas, las cuales vamos a ir desarrollando a medida que vallamos avanzando con el proyecto.\n",
        " 1. Adquisición de los datos\n",
        " 2. Preprocesamiento\n",
        " 3. Entrenamiento de los datos\n",
        " 4. Evaluación\n"
      ],
      "metadata": {
        "id": "8G5OVsr6Wtxe"
      }
    },
    {
      "cell_type": "markdown",
      "source": [
        "Este proyecto se ha desarrollado con Maching Learning lo que traducido al español sería aprendizaje automático,que consiste en la determinación de una serie de parámetros para la clasificación de un\n",
        "conjunto de datos.\n",
        "El modelo resultado de este proceso de aprendizaje puede ser utilizado para  predecir ciertas características o desarrollo de un problema por una persona.\n",
        "\n"
      ],
      "metadata": {
        "id": "qxDvjt_w4NMV"
      }
    },
    {
      "cell_type": "markdown",
      "source": [
        "# **2.2 Pipeline**\n",
        "\n",
        "![DIAGRAMA.png](data:image/png;base64,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)\n",
        "\n",
        "\n",
        "\n",
        "\n",
        "*   Extracción de datos y análisis exploratorio de los datos:\n",
        "*   Preparación de los datos:\n",
        "*   Entrenamiento del modelo:\n",
        "*   Predicción:\n",
        "*   Entrenamiento del modelo:\n",
        "\n",
        "\n",
        "\n",
        "\n",
        "\n",
        "\n",
        "\n"
      ],
      "metadata": {
        "id": "j0pxSsy36S22"
      }
    },
    {
      "cell_type": "markdown",
      "source": [
        "# **2.3 Librerias utilizadas**\n",
        "   \n",
        "\n",
        "1.   Pandas:  se utiliza para la manipulación y análisis de datos en tablas, incluyendo la lectura y escritura de archivos CSV, Excel, entre otros.\n",
        "2.   Numpy:es una libreria para el lenguaje de programación Python que da soporte para crear vectores y matrices grandes multidimensionales, junto con una gran colección de funciones matemáticas de alto nivel para operar con ellas\n",
        "3. Matplotlib:se usa para la visualización de datos en gráficos y diagramas.\n",
        "4. Seaborn: es una herramienta de visualización de datos en Python que se basa en matplotlib. Esta librería ofrece una interfaz de alto nivel que facilita la creación de gráficos estadísticos informativos y atractivos de manera más eficiente. También incluye una amplia variedad de paletas de colores predefinidas para crear visualizaciones personalizadas y más llamativas.\n",
        "5. Sklearn: es una libreria para aprendizaje automático de software libre para el lenguaje de programación Python.​ Incluye varios algoritmos de clasificación, regresión y análisis de grupos entre los cuales están máquinas de vectores de soporte, bosques aleatorios, Gradient boosting, K-means y DBSCAN\n",
        "\n",
        "\n",
        "\n",
        "\n",
        "\n"
      ],
      "metadata": {
        "id": "YCMsn6wQD425"
      }
    },
    {
      "cell_type": "markdown",
      "source": [
        "# **2.4 Desarrollo del proceso**"
      ],
      "metadata": {
        "id": "vbWxzS8dHbxn"
      }
    },
    {
      "cell_type": "markdown",
      "source": [
        "En primer lugar, importamos estas tres librerías porque son las que más nos van a facilitar la implementación del EDA. Posteriormente iremos importando el resto de librerias según vallamos desarrollando el proyecto"
      ],
      "metadata": {
        "id": "Z6RnxpTQYSve"
      }
    },
    {
      "cell_type": "code",
      "source": [
        "import pandas as pd\n",
        "import numpy as np\n",
        "#import matplotlib.pyplot as plt\n",
        "\n",
        "!pip install seaborn --upgrade #Update Seaborn for Plotting\n",
        "import seaborn as sns\n",
        "sns.set_style('ticks') #No grid with ticks\n",
        "archivo = 'cancer patient data sets.xlsx'"
      ],
      "metadata": {
        "id": "w6308dbeEpVj"
      },
      "execution_count": null,
      "outputs": []
    },
    {
      "cell_type": "markdown",
      "source": [
        "Una vez importadas las librerias que vamos a usar,  cargamos el archivo, y para ver que se han cargado todos los datos correctamente observamos las 5 primeras filas"
      ],
      "metadata": {
        "id": "K4QLGFlTE2Bs"
      }
    },
    {
      "cell_type": "code",
      "execution_count": 4,
      "metadata": {
        "colab": {
          "base_uri": "https://localhost:8080/",
          "height": 348
        },
        "id": "dcCbyu_J3OzG",
        "outputId": "f11abcb4-6709-4385-daa1-1cf6076c698c"
      },
      "outputs": [
        {
          "output_type": "execute_result",
          "data": {
            "text/plain": [
              "  Patient Id  Age  Gender  Air Pollution  Alcohol use  Dust Allergy  \\\n",
              "0         P1   33       1              2            4             5   \n",
              "1        P10   17       1              3            1             5   \n",
              "2       P100   35       1              4            5             6   \n",
              "3      P1000   37       1              7            7             7   \n",
              "4       P101   46       1              6            8             7   \n",
              "\n",
              "   OccuPational Hazards  Genetic Risk  chronic Lung Disease  Balanced Diet  \\\n",
              "0                     4             3                     2              2   \n",
              "1                     3             4                     2              2   \n",
              "2                     5             5                     4              6   \n",
              "3                     7             6                     7              7   \n",
              "4                     7             7                     6              7   \n",
              "\n",
              "   ...  Fatigue  Weight Loss  Shortness of Breath  Wheezing  \\\n",
              "0  ...        3            4                    2         2   \n",
              "1  ...        1            3                    7         8   \n",
              "2  ...        8            7                    9         2   \n",
              "3  ...        4            2                    3         1   \n",
              "4  ...        3            2                    4         1   \n",
              "\n",
              "   Swallowing Difficulty  Clubbing of Finger Nails  Frequent Cold  Dry Cough  \\\n",
              "0                      3                         1              2          3   \n",
              "1                      6                         2              1          7   \n",
              "2                      1                         4              6          7   \n",
              "3                      4                         5              6          7   \n",
              "4                      4                         2              4          2   \n",
              "\n",
              "   Snoring   Level  \n",
              "0        4     Low  \n",
              "1        2  Medium  \n",
              "2        2    High  \n",
              "3        5    High  \n",
              "4        3    High  \n",
              "\n",
              "[5 rows x 25 columns]"
            ],
            "text/html": [
              "\n",
              "  <div id=\"df-60e60d13-e56c-488e-9616-01d8cad840c6\">\n",
              "    <div class=\"colab-df-container\">\n",
              "      <div>\n",
              "<style scoped>\n",
              "    .dataframe tbody tr th:only-of-type {\n",
              "        vertical-align: middle;\n",
              "    }\n",
              "\n",
              "    .dataframe tbody tr th {\n",
              "        vertical-align: top;\n",
              "    }\n",
              "\n",
              "    .dataframe thead th {\n",
              "        text-align: right;\n",
              "    }\n",
              "</style>\n",
              "<table border=\"1\" class=\"dataframe\">\n",
              "  <thead>\n",
              "    <tr style=\"text-align: right;\">\n",
              "      <th></th>\n",
              "      <th>Patient Id</th>\n",
              "      <th>Age</th>\n",
              "      <th>Gender</th>\n",
              "      <th>Air Pollution</th>\n",
              "      <th>Alcohol use</th>\n",
              "      <th>Dust Allergy</th>\n",
              "      <th>OccuPational Hazards</th>\n",
              "      <th>Genetic Risk</th>\n",
              "      <th>chronic Lung Disease</th>\n",
              "      <th>Balanced Diet</th>\n",
              "      <th>...</th>\n",
              "      <th>Fatigue</th>\n",
              "      <th>Weight Loss</th>\n",
              "      <th>Shortness of Breath</th>\n",
              "      <th>Wheezing</th>\n",
              "      <th>Swallowing Difficulty</th>\n",
              "      <th>Clubbing of Finger Nails</th>\n",
              "      <th>Frequent Cold</th>\n",
              "      <th>Dry Cough</th>\n",
              "      <th>Snoring</th>\n",
              "      <th>Level</th>\n",
              "    </tr>\n",
              "  </thead>\n",
              "  <tbody>\n",
              "    <tr>\n",
              "      <th>0</th>\n",
              "      <td>P1</td>\n",
              "      <td>33</td>\n",
              "      <td>1</td>\n",
              "      <td>2</td>\n",
              "      <td>4</td>\n",
              "      <td>5</td>\n",
              "      <td>4</td>\n",
              "      <td>3</td>\n",
              "      <td>2</td>\n",
              "      <td>2</td>\n",
              "      <td>...</td>\n",
              "      <td>3</td>\n",
              "      <td>4</td>\n",
              "      <td>2</td>\n",
              "      <td>2</td>\n",
              "      <td>3</td>\n",
              "      <td>1</td>\n",
              "      <td>2</td>\n",
              "      <td>3</td>\n",
              "      <td>4</td>\n",
              "      <td>Low</td>\n",
              "    </tr>\n",
              "    <tr>\n",
              "      <th>1</th>\n",
              "      <td>P10</td>\n",
              "      <td>17</td>\n",
              "      <td>1</td>\n",
              "      <td>3</td>\n",
              "      <td>1</td>\n",
              "      <td>5</td>\n",
              "      <td>3</td>\n",
              "      <td>4</td>\n",
              "      <td>2</td>\n",
              "      <td>2</td>\n",
              "      <td>...</td>\n",
              "      <td>1</td>\n",
              "      <td>3</td>\n",
              "      <td>7</td>\n",
              "      <td>8</td>\n",
              "      <td>6</td>\n",
              "      <td>2</td>\n",
              "      <td>1</td>\n",
              "      <td>7</td>\n",
              "      <td>2</td>\n",
              "      <td>Medium</td>\n",
              "    </tr>\n",
              "    <tr>\n",
              "      <th>2</th>\n",
              "      <td>P100</td>\n",
              "      <td>35</td>\n",
              "      <td>1</td>\n",
              "      <td>4</td>\n",
              "      <td>5</td>\n",
              "      <td>6</td>\n",
              "      <td>5</td>\n",
              "      <td>5</td>\n",
              "      <td>4</td>\n",
              "      <td>6</td>\n",
              "      <td>...</td>\n",
              "      <td>8</td>\n",
              "      <td>7</td>\n",
              "      <td>9</td>\n",
              "      <td>2</td>\n",
              "      <td>1</td>\n",
              "      <td>4</td>\n",
              "      <td>6</td>\n",
              "      <td>7</td>\n",
              "      <td>2</td>\n",
              "      <td>High</td>\n",
              "    </tr>\n",
              "    <tr>\n",
              "      <th>3</th>\n",
              "      <td>P1000</td>\n",
              "      <td>37</td>\n",
              "      <td>1</td>\n",
              "      <td>7</td>\n",
              "      <td>7</td>\n",
              "      <td>7</td>\n",
              "      <td>7</td>\n",
              "      <td>6</td>\n",
              "      <td>7</td>\n",
              "      <td>7</td>\n",
              "      <td>...</td>\n",
              "      <td>4</td>\n",
              "      <td>2</td>\n",
              "      <td>3</td>\n",
              "      <td>1</td>\n",
              "      <td>4</td>\n",
              "      <td>5</td>\n",
              "      <td>6</td>\n",
              "      <td>7</td>\n",
              "      <td>5</td>\n",
              "      <td>High</td>\n",
              "    </tr>\n",
              "    <tr>\n",
              "      <th>4</th>\n",
              "      <td>P101</td>\n",
              "      <td>46</td>\n",
              "      <td>1</td>\n",
              "      <td>6</td>\n",
              "      <td>8</td>\n",
              "      <td>7</td>\n",
              "      <td>7</td>\n",
              "      <td>7</td>\n",
              "      <td>6</td>\n",
              "      <td>7</td>\n",
              "      <td>...</td>\n",
              "      <td>3</td>\n",
              "      <td>2</td>\n",
              "      <td>4</td>\n",
              "      <td>1</td>\n",
              "      <td>4</td>\n",
              "      <td>2</td>\n",
              "      <td>4</td>\n",
              "      <td>2</td>\n",
              "      <td>3</td>\n",
              "      <td>High</td>\n",
              "    </tr>\n",
              "  </tbody>\n",
              "</table>\n",
              "<p>5 rows × 25 columns</p>\n",
              "</div>\n",
              "      <button class=\"colab-df-convert\" onclick=\"convertToInteractive('df-60e60d13-e56c-488e-9616-01d8cad840c6')\"\n",
              "              title=\"Convert this dataframe to an interactive table.\"\n",
              "              style=\"display:none;\">\n",
              "        \n",
              "  <svg xmlns=\"http://www.w3.org/2000/svg\" height=\"24px\"viewBox=\"0 0 24 24\"\n",
              "       width=\"24px\">\n",
              "    <path d=\"M0 0h24v24H0V0z\" fill=\"none\"/>\n",
              "    <path d=\"M18.56 5.44l.94 2.06.94-2.06 2.06-.94-2.06-.94-.94-2.06-.94 2.06-2.06.94zm-11 1L8.5 8.5l.94-2.06 2.06-.94-2.06-.94L8.5 2.5l-.94 2.06-2.06.94zm10 10l.94 2.06.94-2.06 2.06-.94-2.06-.94-.94-2.06-.94 2.06-2.06.94z\"/><path d=\"M17.41 7.96l-1.37-1.37c-.4-.4-.92-.59-1.43-.59-.52 0-1.04.2-1.43.59L10.3 9.45l-7.72 7.72c-.78.78-.78 2.05 0 2.83L4 21.41c.39.39.9.59 1.41.59.51 0 1.02-.2 1.41-.59l7.78-7.78 2.81-2.81c.8-.78.8-2.07 0-2.86zM5.41 20L4 18.59l7.72-7.72 1.47 1.35L5.41 20z\"/>\n",
              "  </svg>\n",
              "      </button>\n",
              "      \n",
              "  <style>\n",
              "    .colab-df-container {\n",
              "      display:flex;\n",
              "      flex-wrap:wrap;\n",
              "      gap: 12px;\n",
              "    }\n",
              "\n",
              "    .colab-df-convert {\n",
              "      background-color: #E8F0FE;\n",
              "      border: none;\n",
              "      border-radius: 50%;\n",
              "      cursor: pointer;\n",
              "      display: none;\n",
              "      fill: #1967D2;\n",
              "      height: 32px;\n",
              "      padding: 0 0 0 0;\n",
              "      width: 32px;\n",
              "    }\n",
              "\n",
              "    .colab-df-convert:hover {\n",
              "      background-color: #E2EBFA;\n",
              "      box-shadow: 0px 1px 2px rgba(60, 64, 67, 0.3), 0px 1px 3px 1px rgba(60, 64, 67, 0.15);\n",
              "      fill: #174EA6;\n",
              "    }\n",
              "\n",
              "    [theme=dark] .colab-df-convert {\n",
              "      background-color: #3B4455;\n",
              "      fill: #D2E3FC;\n",
              "    }\n",
              "\n",
              "    [theme=dark] .colab-df-convert:hover {\n",
              "      background-color: #434B5C;\n",
              "      box-shadow: 0px 1px 3px 1px rgba(0, 0, 0, 0.15);\n",
              "      filter: drop-shadow(0px 1px 2px rgba(0, 0, 0, 0.3));\n",
              "      fill: #FFFFFF;\n",
              "    }\n",
              "  </style>\n",
              "\n",
              "      <script>\n",
              "        const buttonEl =\n",
              "          document.querySelector('#df-60e60d13-e56c-488e-9616-01d8cad840c6 button.colab-df-convert');\n",
              "        buttonEl.style.display =\n",
              "          google.colab.kernel.accessAllowed ? 'block' : 'none';\n",
              "\n",
              "        async function convertToInteractive(key) {\n",
              "          const element = document.querySelector('#df-60e60d13-e56c-488e-9616-01d8cad840c6');\n",
              "          const dataTable =\n",
              "            await google.colab.kernel.invokeFunction('convertToInteractive',\n",
              "                                                     [key], {});\n",
              "          if (!dataTable) return;\n",
              "\n",
              "          const docLinkHtml = 'Like what you see? Visit the ' +\n",
              "            '<a target=\"_blank\" href=https://colab.research.google.com/notebooks/data_table.ipynb>data table notebook</a>'\n",
              "            + ' to learn more about interactive tables.';\n",
              "          element.innerHTML = '';\n",
              "          dataTable['output_type'] = 'display_data';\n",
              "          await google.colab.output.renderOutput(dataTable, element);\n",
              "          const docLink = document.createElement('div');\n",
              "          docLink.innerHTML = docLinkHtml;\n",
              "          element.appendChild(docLink);\n",
              "        }\n",
              "      </script>\n",
              "    </div>\n",
              "  </div>\n",
              "  "
            ]
          },
          "metadata": {},
          "execution_count": 4
        }
      ],
      "source": [
        "\n",
        "df = pd.read_excel(archivo)\n",
        "df.head()\n"
      ]
    },
    {
      "cell_type": "markdown",
      "source": [
        "Posteriormente vemos el total de filas y columnas con las que cuenta nuestro database"
      ],
      "metadata": {
        "id": "h12dPs9nZLc7"
      }
    },
    {
      "cell_type": "code",
      "source": [
        "df.shape"
      ],
      "metadata": {
        "colab": {
          "base_uri": "https://localhost:8080/",
          "height": 164
        },
        "id": "DKFDpYCEFKfO",
        "outputId": "bab6bb60-63c5-4b9d-edb9-30592b98790b"
      },
      "execution_count": null,
      "outputs": [
        {
          "output_type": "error",
          "ename": "NameError",
          "evalue": "ignored",
          "traceback": [
            "\u001b[0;31m---------------------------------------------------------------------------\u001b[0m",
            "\u001b[0;31mNameError\u001b[0m                                 Traceback (most recent call last)",
            "\u001b[0;32m<ipython-input-4-633337079cd0>\u001b[0m in \u001b[0;36m<cell line: 1>\u001b[0;34m()\u001b[0m\n\u001b[0;32m----> 1\u001b[0;31m \u001b[0mdf\u001b[0m\u001b[0;34m.\u001b[0m\u001b[0mshape\u001b[0m\u001b[0;34m\u001b[0m\u001b[0;34m\u001b[0m\u001b[0m\n\u001b[0m",
            "\u001b[0;31mNameError\u001b[0m: name 'df' is not defined"
          ]
        }
      ]
    },
    {
      "cell_type": "code",
      "source": [
        "#Basic information\n",
        "\n",
        "df.info()\n",
        "\n",
        "df[\"Level\"]=df[\"Level\"].astype(\"category\")\n",
        "df[\"Level\"]=df[\"Level\"].cat.codes\n",
        "\n"
      ],
      "metadata": {
        "colab": {
          "base_uri": "https://localhost:8080/"
        },
        "id": "MD08_Gy-6Vgk",
        "outputId": "ad043b08-4d14-4aad-8f1f-0e3bec440703"
      },
      "execution_count": null,
      "outputs": [
        {
          "output_type": "stream",
          "name": "stdout",
          "text": [
            "<class 'pandas.core.frame.DataFrame'>\n",
            "RangeIndex: 1000 entries, 0 to 999\n",
            "Data columns (total 25 columns):\n",
            " #   Column                    Non-Null Count  Dtype \n",
            "---  ------                    --------------  ----- \n",
            " 0   Patient Id                1000 non-null   object\n",
            " 1   Age                       1000 non-null   int64 \n",
            " 2   Gender                    1000 non-null   int64 \n",
            " 3   Air Pollution             1000 non-null   int64 \n",
            " 4   Alcohol use               1000 non-null   int64 \n",
            " 5   Dust Allergy              1000 non-null   int64 \n",
            " 6   OccuPational Hazards      1000 non-null   int64 \n",
            " 7   Genetic Risk              1000 non-null   int64 \n",
            " 8   chronic Lung Disease      1000 non-null   int64 \n",
            " 9   Balanced Diet             1000 non-null   int64 \n",
            " 10  Obesity                   1000 non-null   int64 \n",
            " 11  Smoking                   1000 non-null   int64 \n",
            " 12  Passive Smoker            1000 non-null   int64 \n",
            " 13  Chest Pain                1000 non-null   int64 \n",
            " 14  Coughing of Blood         1000 non-null   int64 \n",
            " 15  Fatigue                   1000 non-null   int64 \n",
            " 16  Weight Loss               1000 non-null   int64 \n",
            " 17  Shortness of Breath       1000 non-null   int64 \n",
            " 18  Wheezing                  1000 non-null   int64 \n",
            " 19  Swallowing Difficulty     1000 non-null   int64 \n",
            " 20  Clubbing of Finger Nails  1000 non-null   int64 \n",
            " 21  Frequent Cold             1000 non-null   int64 \n",
            " 22  Dry Cough                 1000 non-null   int64 \n",
            " 23  Snoring                   1000 non-null   int64 \n",
            " 24  Level                     1000 non-null   object\n",
            "dtypes: int64(23), object(2)\n",
            "memory usage: 195.4+ KB\n"
          ]
        }
      ]
    },
    {
      "cell_type": "markdown",
      "source": [
        "Podemos ver que todos los datos son numéricos con edad como int, nivel como categorías y el resto son ordinales. Afortunadamente, no tenemos que preocuparnos por la limpieza de datos aquí, ya que no hay valores nulos. Saltemos directamente a EDA"
      ],
      "metadata": {
        "id": "y0y5quY8a7Gk"
      }
    },
    {
      "cell_type": "markdown",
      "source": [
        "Sí empezamos a ver la tabla de izquierda derecha, encontramos diferentes columnas en las cuales podemos ver como los diferentes factores que se incluyen predisponen al paciente a desarrollar cáncer. \n",
        "Los factores que se representan son: La edad, el genero, la contaminación del aire, el alcohol, la alergia al polvo, enfermedades derivadas del trabajo, factores genéticos, si se padece una enfermedad crónica, una dieta equilibrada, la obesidad, la fatiga, la pérdida de peso, la difucultad para respirar, las sibilancias, dificultad para tragar, dedos hipocráticos, resfriados frecuentes,\n",
        "roncar, y por ultimo la columna nivel en la cual podemos ver como la suma de todos los valores anteriores precide si la probabilidad de sufrir cáncer es alta, media o baja.\n"
      ],
      "metadata": {
        "id": "z-snNnsJZo85"
      }
    },
    {
      "cell_type": "code",
      "source": [
        "#Describe the data\n",
        "\n",
        "df.describe()"
      ],
      "metadata": {
        "colab": {
          "base_uri": "https://localhost:8080/",
          "height": 424
        },
        "id": "6VARZBNoFjuD",
        "outputId": "37e8480a-fc19-4370-e69e-448a1fc058cf"
      },
      "execution_count": null,
      "outputs": [
        {
          "output_type": "execute_result",
          "data": {
            "text/plain": [
              "               Age       Gender  Air Pollution  Alcohol use  Dust Allergy  \\\n",
              "count  1000.000000  1000.000000      1000.0000  1000.000000   1000.000000   \n",
              "mean     37.174000     1.402000         3.8400     4.563000      5.165000   \n",
              "std      12.005493     0.490547         2.0304     2.620477      1.980833   \n",
              "min      14.000000     1.000000         1.0000     1.000000      1.000000   \n",
              "25%      27.750000     1.000000         2.0000     2.000000      4.000000   \n",
              "50%      36.000000     1.000000         3.0000     5.000000      6.000000   \n",
              "75%      45.000000     2.000000         6.0000     7.000000      7.000000   \n",
              "max      73.000000     2.000000         8.0000     8.000000      8.000000   \n",
              "\n",
              "       OccuPational Hazards  Genetic Risk  chronic Lung Disease  \\\n",
              "count           1000.000000   1000.000000           1000.000000   \n",
              "mean               4.840000      4.580000              4.380000   \n",
              "std                2.107805      2.126999              1.848518   \n",
              "min                1.000000      1.000000              1.000000   \n",
              "25%                3.000000      2.000000              3.000000   \n",
              "50%                5.000000      5.000000              4.000000   \n",
              "75%                7.000000      7.000000              6.000000   \n",
              "max                8.000000      7.000000              7.000000   \n",
              "\n",
              "       Balanced Diet      Obesity  ...      Fatigue  Weight Loss  \\\n",
              "count    1000.000000  1000.000000  ...  1000.000000  1000.000000   \n",
              "mean        4.491000     4.465000  ...     3.856000     3.855000   \n",
              "std         2.135528     2.124921  ...     2.244616     2.206546   \n",
              "min         1.000000     1.000000  ...     1.000000     1.000000   \n",
              "25%         2.000000     3.000000  ...     2.000000     2.000000   \n",
              "50%         4.000000     4.000000  ...     3.000000     3.000000   \n",
              "75%         7.000000     7.000000  ...     5.000000     6.000000   \n",
              "max         7.000000     7.000000  ...     9.000000     8.000000   \n",
              "\n",
              "       Shortness of Breath     Wheezing  Swallowing Difficulty  \\\n",
              "count          1000.000000  1000.000000            1000.000000   \n",
              "mean              4.240000     3.777000               3.746000   \n",
              "std               2.285087     2.041921               2.270383   \n",
              "min               1.000000     1.000000               1.000000   \n",
              "25%               2.000000     2.000000               2.000000   \n",
              "50%               4.000000     4.000000               4.000000   \n",
              "75%               6.000000     5.000000               5.000000   \n",
              "max               9.000000     8.000000               8.000000   \n",
              "\n",
              "       Clubbing of Finger Nails  Frequent Cold    Dry Cough      Snoring  \\\n",
              "count               1000.000000    1000.000000  1000.000000  1000.000000   \n",
              "mean                   3.923000       3.536000     3.853000     2.926000   \n",
              "std                    2.388048       1.832502     2.039007     1.474686   \n",
              "min                    1.000000       1.000000     1.000000     1.000000   \n",
              "25%                    2.000000       2.000000     2.000000     2.000000   \n",
              "50%                    4.000000       3.000000     4.000000     3.000000   \n",
              "75%                    5.000000       5.000000     6.000000     4.000000   \n",
              "max                    9.000000       7.000000     7.000000     7.000000   \n",
              "\n",
              "            Level  \n",
              "count  1000.00000  \n",
              "mean      0.96700  \n",
              "std       0.83463  \n",
              "min       0.00000  \n",
              "25%       0.00000  \n",
              "50%       1.00000  \n",
              "75%       2.00000  \n",
              "max       2.00000  \n",
              "\n",
              "[8 rows x 24 columns]"
            ],
            "text/html": [
              "\n",
              "  <div id=\"df-a2cacea3-3eb0-4e80-b473-c29d67a64d1a\">\n",
              "    <div class=\"colab-df-container\">\n",
              "      <div>\n",
              "<style scoped>\n",
              "    .dataframe tbody tr th:only-of-type {\n",
              "        vertical-align: middle;\n",
              "    }\n",
              "\n",
              "    .dataframe tbody tr th {\n",
              "        vertical-align: top;\n",
              "    }\n",
              "\n",
              "    .dataframe thead th {\n",
              "        text-align: right;\n",
              "    }\n",
              "</style>\n",
              "<table border=\"1\" class=\"dataframe\">\n",
              "  <thead>\n",
              "    <tr style=\"text-align: right;\">\n",
              "      <th></th>\n",
              "      <th>Age</th>\n",
              "      <th>Gender</th>\n",
              "      <th>Air Pollution</th>\n",
              "      <th>Alcohol use</th>\n",
              "      <th>Dust Allergy</th>\n",
              "      <th>OccuPational Hazards</th>\n",
              "      <th>Genetic Risk</th>\n",
              "      <th>chronic Lung Disease</th>\n",
              "      <th>Balanced Diet</th>\n",
              "      <th>Obesity</th>\n",
              "      <th>...</th>\n",
              "      <th>Fatigue</th>\n",
              "      <th>Weight Loss</th>\n",
              "      <th>Shortness of Breath</th>\n",
              "      <th>Wheezing</th>\n",
              "      <th>Swallowing Difficulty</th>\n",
              "      <th>Clubbing of Finger Nails</th>\n",
              "      <th>Frequent Cold</th>\n",
              "      <th>Dry Cough</th>\n",
              "      <th>Snoring</th>\n",
              "      <th>Level</th>\n",
              "    </tr>\n",
              "  </thead>\n",
              "  <tbody>\n",
              "    <tr>\n",
              "      <th>count</th>\n",
              "      <td>1000.000000</td>\n",
              "      <td>1000.000000</td>\n",
              "      <td>1000.0000</td>\n",
              "      <td>1000.000000</td>\n",
              "      <td>1000.000000</td>\n",
              "      <td>1000.000000</td>\n",
              "      <td>1000.000000</td>\n",
              "      <td>1000.000000</td>\n",
              "      <td>1000.000000</td>\n",
              "      <td>1000.000000</td>\n",
              "      <td>...</td>\n",
              "      <td>1000.000000</td>\n",
              "      <td>1000.000000</td>\n",
              "      <td>1000.000000</td>\n",
              "      <td>1000.000000</td>\n",
              "      <td>1000.000000</td>\n",
              "      <td>1000.000000</td>\n",
              "      <td>1000.000000</td>\n",
              "      <td>1000.000000</td>\n",
              "      <td>1000.000000</td>\n",
              "      <td>1000.00000</td>\n",
              "    </tr>\n",
              "    <tr>\n",
              "      <th>mean</th>\n",
              "      <td>37.174000</td>\n",
              "      <td>1.402000</td>\n",
              "      <td>3.8400</td>\n",
              "      <td>4.563000</td>\n",
              "      <td>5.165000</td>\n",
              "      <td>4.840000</td>\n",
              "      <td>4.580000</td>\n",
              "      <td>4.380000</td>\n",
              "      <td>4.491000</td>\n",
              "      <td>4.465000</td>\n",
              "      <td>...</td>\n",
              "      <td>3.856000</td>\n",
              "      <td>3.855000</td>\n",
              "      <td>4.240000</td>\n",
              "      <td>3.777000</td>\n",
              "      <td>3.746000</td>\n",
              "      <td>3.923000</td>\n",
              "      <td>3.536000</td>\n",
              "      <td>3.853000</td>\n",
              "      <td>2.926000</td>\n",
              "      <td>0.96700</td>\n",
              "    </tr>\n",
              "    <tr>\n",
              "      <th>std</th>\n",
              "      <td>12.005493</td>\n",
              "      <td>0.490547</td>\n",
              "      <td>2.0304</td>\n",
              "      <td>2.620477</td>\n",
              "      <td>1.980833</td>\n",
              "      <td>2.107805</td>\n",
              "      <td>2.126999</td>\n",
              "      <td>1.848518</td>\n",
              "      <td>2.135528</td>\n",
              "      <td>2.124921</td>\n",
              "      <td>...</td>\n",
              "      <td>2.244616</td>\n",
              "      <td>2.206546</td>\n",
              "      <td>2.285087</td>\n",
              "      <td>2.041921</td>\n",
              "      <td>2.270383</td>\n",
              "      <td>2.388048</td>\n",
              "      <td>1.832502</td>\n",
              "      <td>2.039007</td>\n",
              "      <td>1.474686</td>\n",
              "      <td>0.83463</td>\n",
              "    </tr>\n",
              "    <tr>\n",
              "      <th>min</th>\n",
              "      <td>14.000000</td>\n",
              "      <td>1.000000</td>\n",
              "      <td>1.0000</td>\n",
              "      <td>1.000000</td>\n",
              "      <td>1.000000</td>\n",
              "      <td>1.000000</td>\n",
              "      <td>1.000000</td>\n",
              "      <td>1.000000</td>\n",
              "      <td>1.000000</td>\n",
              "      <td>1.000000</td>\n",
              "      <td>...</td>\n",
              "      <td>1.000000</td>\n",
              "      <td>1.000000</td>\n",
              "      <td>1.000000</td>\n",
              "      <td>1.000000</td>\n",
              "      <td>1.000000</td>\n",
              "      <td>1.000000</td>\n",
              "      <td>1.000000</td>\n",
              "      <td>1.000000</td>\n",
              "      <td>1.000000</td>\n",
              "      <td>0.00000</td>\n",
              "    </tr>\n",
              "    <tr>\n",
              "      <th>25%</th>\n",
              "      <td>27.750000</td>\n",
              "      <td>1.000000</td>\n",
              "      <td>2.0000</td>\n",
              "      <td>2.000000</td>\n",
              "      <td>4.000000</td>\n",
              "      <td>3.000000</td>\n",
              "      <td>2.000000</td>\n",
              "      <td>3.000000</td>\n",
              "      <td>2.000000</td>\n",
              "      <td>3.000000</td>\n",
              "      <td>...</td>\n",
              "      <td>2.000000</td>\n",
              "      <td>2.000000</td>\n",
              "      <td>2.000000</td>\n",
              "      <td>2.000000</td>\n",
              "      <td>2.000000</td>\n",
              "      <td>2.000000</td>\n",
              "      <td>2.000000</td>\n",
              "      <td>2.000000</td>\n",
              "      <td>2.000000</td>\n",
              "      <td>0.00000</td>\n",
              "    </tr>\n",
              "    <tr>\n",
              "      <th>50%</th>\n",
              "      <td>36.000000</td>\n",
              "      <td>1.000000</td>\n",
              "      <td>3.0000</td>\n",
              "      <td>5.000000</td>\n",
              "      <td>6.000000</td>\n",
              "      <td>5.000000</td>\n",
              "      <td>5.000000</td>\n",
              "      <td>4.000000</td>\n",
              "      <td>4.000000</td>\n",
              "      <td>4.000000</td>\n",
              "      <td>...</td>\n",
              "      <td>3.000000</td>\n",
              "      <td>3.000000</td>\n",
              "      <td>4.000000</td>\n",
              "      <td>4.000000</td>\n",
              "      <td>4.000000</td>\n",
              "      <td>4.000000</td>\n",
              "      <td>3.000000</td>\n",
              "      <td>4.000000</td>\n",
              "      <td>3.000000</td>\n",
              "      <td>1.00000</td>\n",
              "    </tr>\n",
              "    <tr>\n",
              "      <th>75%</th>\n",
              "      <td>45.000000</td>\n",
              "      <td>2.000000</td>\n",
              "      <td>6.0000</td>\n",
              "      <td>7.000000</td>\n",
              "      <td>7.000000</td>\n",
              "      <td>7.000000</td>\n",
              "      <td>7.000000</td>\n",
              "      <td>6.000000</td>\n",
              "      <td>7.000000</td>\n",
              "      <td>7.000000</td>\n",
              "      <td>...</td>\n",
              "      <td>5.000000</td>\n",
              "      <td>6.000000</td>\n",
              "      <td>6.000000</td>\n",
              "      <td>5.000000</td>\n",
              "      <td>5.000000</td>\n",
              "      <td>5.000000</td>\n",
              "      <td>5.000000</td>\n",
              "      <td>6.000000</td>\n",
              "      <td>4.000000</td>\n",
              "      <td>2.00000</td>\n",
              "    </tr>\n",
              "    <tr>\n",
              "      <th>max</th>\n",
              "      <td>73.000000</td>\n",
              "      <td>2.000000</td>\n",
              "      <td>8.0000</td>\n",
              "      <td>8.000000</td>\n",
              "      <td>8.000000</td>\n",
              "      <td>8.000000</td>\n",
              "      <td>7.000000</td>\n",
              "      <td>7.000000</td>\n",
              "      <td>7.000000</td>\n",
              "      <td>7.000000</td>\n",
              "      <td>...</td>\n",
              "      <td>9.000000</td>\n",
              "      <td>8.000000</td>\n",
              "      <td>9.000000</td>\n",
              "      <td>8.000000</td>\n",
              "      <td>8.000000</td>\n",
              "      <td>9.000000</td>\n",
              "      <td>7.000000</td>\n",
              "      <td>7.000000</td>\n",
              "      <td>7.000000</td>\n",
              "      <td>2.00000</td>\n",
              "    </tr>\n",
              "  </tbody>\n",
              "</table>\n",
              "<p>8 rows × 24 columns</p>\n",
              "</div>\n",
              "      <button class=\"colab-df-convert\" onclick=\"convertToInteractive('df-a2cacea3-3eb0-4e80-b473-c29d67a64d1a')\"\n",
              "              title=\"Convert this dataframe to an interactive table.\"\n",
              "              style=\"display:none;\">\n",
              "        \n",
              "  <svg xmlns=\"http://www.w3.org/2000/svg\" height=\"24px\"viewBox=\"0 0 24 24\"\n",
              "       width=\"24px\">\n",
              "    <path d=\"M0 0h24v24H0V0z\" fill=\"none\"/>\n",
              "    <path d=\"M18.56 5.44l.94 2.06.94-2.06 2.06-.94-2.06-.94-.94-2.06-.94 2.06-2.06.94zm-11 1L8.5 8.5l.94-2.06 2.06-.94-2.06-.94L8.5 2.5l-.94 2.06-2.06.94zm10 10l.94 2.06.94-2.06 2.06-.94-2.06-.94-.94-2.06-.94 2.06-2.06.94z\"/><path d=\"M17.41 7.96l-1.37-1.37c-.4-.4-.92-.59-1.43-.59-.52 0-1.04.2-1.43.59L10.3 9.45l-7.72 7.72c-.78.78-.78 2.05 0 2.83L4 21.41c.39.39.9.59 1.41.59.51 0 1.02-.2 1.41-.59l7.78-7.78 2.81-2.81c.8-.78.8-2.07 0-2.86zM5.41 20L4 18.59l7.72-7.72 1.47 1.35L5.41 20z\"/>\n",
              "  </svg>\n",
              "      </button>\n",
              "      \n",
              "  <style>\n",
              "    .colab-df-container {\n",
              "      display:flex;\n",
              "      flex-wrap:wrap;\n",
              "      gap: 12px;\n",
              "    }\n",
              "\n",
              "    .colab-df-convert {\n",
              "      background-color: #E8F0FE;\n",
              "      border: none;\n",
              "      border-radius: 50%;\n",
              "      cursor: pointer;\n",
              "      display: none;\n",
              "      fill: #1967D2;\n",
              "      height: 32px;\n",
              "      padding: 0 0 0 0;\n",
              "      width: 32px;\n",
              "    }\n",
              "\n",
              "    .colab-df-convert:hover {\n",
              "      background-color: #E2EBFA;\n",
              "      box-shadow: 0px 1px 2px rgba(60, 64, 67, 0.3), 0px 1px 3px 1px rgba(60, 64, 67, 0.15);\n",
              "      fill: #174EA6;\n",
              "    }\n",
              "\n",
              "    [theme=dark] .colab-df-convert {\n",
              "      background-color: #3B4455;\n",
              "      fill: #D2E3FC;\n",
              "    }\n",
              "\n",
              "    [theme=dark] .colab-df-convert:hover {\n",
              "      background-color: #434B5C;\n",
              "      box-shadow: 0px 1px 3px 1px rgba(0, 0, 0, 0.15);\n",
              "      filter: drop-shadow(0px 1px 2px rgba(0, 0, 0, 0.3));\n",
              "      fill: #FFFFFF;\n",
              "    }\n",
              "  </style>\n",
              "\n",
              "      <script>\n",
              "        const buttonEl =\n",
              "          document.querySelector('#df-a2cacea3-3eb0-4e80-b473-c29d67a64d1a button.colab-df-convert');\n",
              "        buttonEl.style.display =\n",
              "          google.colab.kernel.accessAllowed ? 'block' : 'none';\n",
              "\n",
              "        async function convertToInteractive(key) {\n",
              "          const element = document.querySelector('#df-a2cacea3-3eb0-4e80-b473-c29d67a64d1a');\n",
              "          const dataTable =\n",
              "            await google.colab.kernel.invokeFunction('convertToInteractive',\n",
              "                                                     [key], {});\n",
              "          if (!dataTable) return;\n",
              "\n",
              "          const docLinkHtml = 'Like what you see? Visit the ' +\n",
              "            '<a target=\"_blank\" href=https://colab.research.google.com/notebooks/data_table.ipynb>data table notebook</a>'\n",
              "            + ' to learn more about interactive tables.';\n",
              "          element.innerHTML = '';\n",
              "          dataTable['output_type'] = 'display_data';\n",
              "          await google.colab.output.renderOutput(dataTable, element);\n",
              "          const docLink = document.createElement('div');\n",
              "          docLink.innerHTML = docLinkHtml;\n",
              "          element.appendChild(docLink);\n",
              "        }\n",
              "      </script>\n",
              "    </div>\n",
              "  </div>\n",
              "  "
            ]
          },
          "metadata": {},
          "execution_count": 5
        }
      ]
    },
    {
      "cell_type": "markdown",
      "source": [
        "A continuación pasamos al desarrollo de gráficos los cuales nos permitiran ver de forma más intuitiva algunos de los datos que en principio podemos considerar más relevantes."
      ],
      "metadata": {
        "id": "66zyei2-HswF"
      }
    },
    {
      "cell_type": "code",
      "source": [
        "def Plotter(plot, x_label, y_label, x_rot=None, y_rot=None,  fontsize=12, fontweight=None, legend=True, save=False,save_name=None):\n",
        "\n",
        "    #Ticks\n",
        "    ax.tick_params(direction='out', length=5, width=3, colors='k',\n",
        "               grid_color='k', grid_alpha=1,grid_linewidth=2)\n",
        "    plt.xticks(fontsize=fontsize, fontweight=fontweight, rotation=x_rot)\n",
        "    plt.yticks(fontsize=fontsize, fontweight=fontweight, rotation=y_rot)\n",
        "\n",
        "    #Legend\n",
        "    if legend==True:\n",
        "        plt.legend()\n",
        "    else:\n",
        "        ax.legend().remove()\n",
        "        \n",
        "    #Labels\n",
        "    plt.xlabel(x_label, fontsize=fontsize, fontweight=fontweight, color='k')\n",
        "    plt.ylabel(y_label, fontsize=fontsize, fontweight=fontweight, color='k')\n",
        "\n",
        "    #Removing Spines and setting up remianing, preset prior to use.\n",
        "    ax.spines['top'].set_color(None)\n",
        "    ax.spines['right'].set_color(None)\n",
        "    ax.spines['bottom'].set_color('k')\n",
        "    ax.spines['bottom'].set_linewidth(3)\n",
        "    ax.spines['left'].set_color('k')\n",
        "    ax.spines['left'].set_linewidth(3)\n",
        "    \n",
        "    if save==True:\n",
        "        plt.savefig(save_name)\n"
      ],
      "metadata": {
        "id": "1Ys1EQVoesbg"
      },
      "execution_count": null,
      "outputs": []
    },
    {
      "cell_type": "code",
      "source": [
        "\n",
        "fig, ax=plt.subplots()#Required outside of function. This needs to be activated first when plotting in every code block\n",
        "plot=sns.countplot(data=df, x='Level', palette=['darkblue','darkred','darkgreen'])#Count plot\n",
        "Plotter(plot, 'Level', 'Count', legend=None, save=True, save_name='Level Count.png')#Plotter function for aesthetics\n",
        "plot"
      ],
      "metadata": {
        "colab": {
          "base_uri": "https://localhost:8080/",
          "height": 513
        },
        "id": "ZVXAFRyB2mox",
        "outputId": "29ced641-006b-41af-e28e-1e778b120581"
      },
      "execution_count": null,
      "outputs": [
        {
          "output_type": "stream",
          "name": "stderr",
          "text": [
            "WARNING:matplotlib.legend:No artists with labels found to put in legend.  Note that artists whose label start with an underscore are ignored when legend() is called with no argument.\n"
          ]
        },
        {
          "output_type": "execute_result",
          "data": {
            "text/plain": [
              "<Axes: xlabel='Level', ylabel='Count'>"
            ]
          },
          "metadata": {},
          "execution_count": 7
        },
        {
          "output_type": "display_data",
          "data": {
            "text/plain": [
              "<Figure size 640x480 with 1 Axes>"
            ],
            "image/png": "[encoded data removed]"
          },
          "metadata": {}
        }
      ]
    },
    {
      "cell_type": "markdown",
      "source": [
        "Como podemos ver los datos están bastante equilibrados. ¿Por qué no lo desglosamos más por género?"
      ],
      "metadata": {
        "id": "X3A--M5Mct8w"
      }
    },
    {
      "cell_type": "code",
      "source": [
        "fig, ax=plt.subplots()\n",
        "plot=sns.countplot(data=df, x='Level', hue='Gender', palette=['darkblue','darkred'])"
      ],
      "metadata": {
        "colab": {
          "base_uri": "https://localhost:8080/",
          "height": 449
        },
        "id": "BSFuf_Y38Qzh",
        "outputId": "7e0dbdef-5741-4384-eeb3-bdd0ae8b31ad"
      },
      "execution_count": null,
      "outputs": [
        {
          "output_type": "display_data",
          "data": {
            "text/plain": [
              "<Figure size 640x480 with 1 Axes>"
            ],
            "image/png": "[encoded data removed]"
          },
          "metadata": {}
        }
      ]
    },
    {
      "cell_type": "markdown",
      "source": [
        "\n",
        "Tenemos una mayor representación del género uno (hombres) frente al género dos (mujeres). Comencemos mirando para ver si hay una correlación entre algunos de los datos. Podemos comenzar con el consumo de alcohol y la fatiga y ver si el nivel de cáncer está relacionado con ellos."
      ],
      "metadata": {
        "id": "1m8SmcoLcOap"
      }
    },
    {
      "cell_type": "code",
      "source": [
        "fig, ax=plt.subplots()\n",
        "plot=sns.scatterplot(data=df, x='Alcohol use',y='Fatigue', hue='Level', palette=['darkblue','darkred','darkgreen'], s=50, marker='o')\n",
        "\n",
        "plot"
      ],
      "metadata": {
        "colab": {
          "base_uri": "https://localhost:8080/",
          "height": 466
        },
        "id": "LKSJrYDQ8r6w",
        "outputId": "9d735f9a-8ebb-42e9-b6d1-95f93dbfa498"
      },
      "execution_count": null,
      "outputs": [
        {
          "output_type": "execute_result",
          "data": {
            "text/plain": [
              "<Axes: xlabel='Alcohol use', ylabel='Fatigue'>"
            ]
          },
          "metadata": {},
          "execution_count": 9
        },
        {
          "output_type": "display_data",
          "data": {
            "text/plain": [
              "<Figure size 640x480 with 1 Axes>"
            ],
            "image/png": "[encoded data removed]"
          },
          "metadata": {}
        }
      ]
    },
    {
      "cell_type": "markdown",
      "source": [
        "Hay claramente dos grupos diferentes para niveles bajos y altos por consumo de alcohol y fatiga, mientras que medio es una combinación de ambos. ¿Hay alguna diferencia por edad y nivel de cáncer?"
      ],
      "metadata": {
        "id": "IZM2B7cyb0wx"
      }
    },
    {
      "cell_type": "code",
      "source": [
        "fig, ax=plt.subplots()\n",
        "plot=sns.countplot(data=df, x='Alcohol use', hue='Gender', palette=['darkblue','darkred'])"
      ],
      "metadata": {
        "colab": {
          "base_uri": "https://localhost:8080/",
          "height": 449
        },
        "id": "oXmeaKVAvt_r",
        "outputId": "306cf6b5-9b8d-436e-8a4f-893b3f76b2b5"
      },
      "execution_count": null,
      "outputs": [
        {
          "output_type": "display_data",
          "data": {
            "text/plain": [
              "<Figure size 640x480 with 1 Axes>"
            ],
            "image/png": "[encoded data removed]"
          },
          "metadata": {}
        }
      ]
    },
    {
      "cell_type": "markdown",
      "source": [
        "Podemos encontrar mayor consumo de alcohol en hombres que en mujeres."
      ],
      "metadata": {
        "id": "aUs2SXL6xzcF"
      }
    },
    {
      "cell_type": "code",
      "source": [
        "fig, ax=plt.subplots()#Required outside of function. This needs to be activated first when plotting in every code block\n",
        "plot=sns.countplot(data=df, x='Obesity', hue='Gender', palette=['darkblue','darkred'])#Count plot"
      ],
      "metadata": {
        "colab": {
          "base_uri": "https://localhost:8080/",
          "height": 449
        },
        "id": "zyIXsU1twPGw",
        "outputId": "b07bd657-2371-48ca-b233-7975adef6e0b"
      },
      "execution_count": null,
      "outputs": [
        {
          "output_type": "display_data",
          "data": {
            "text/plain": [
              "<Figure size 640x480 with 1 Axes>"
            ],
            "image/png": "[encoded data removed]"
          },
          "metadata": {}
        }
      ]
    },
    {
      "cell_type": "markdown",
      "source": [
        "En la gráfica podemos ver que la obesidad es superior en hombres que en mujeres.\n",
        "El genero 1 corresponde a los hombres y el géneros 2 a las mujeres"
      ],
      "metadata": {
        "id": "-abCkhZ0y7Kq"
      }
    },
    {
      "cell_type": "code",
      "source": [
        "fig, ax=plt.subplots()\n",
        "plot=sns.boxplot(data=df, x='Level', y='Age', palette=['darkblue','darkred','darkgreen'])"
      ],
      "metadata": {
        "colab": {
          "base_uri": "https://localhost:8080/",
          "height": 449
        },
        "id": "6ftB7QPA8sE7",
        "outputId": "99ba3ef9-df67-436c-928f-899dc0b30654"
      },
      "execution_count": null,
      "outputs": [
        {
          "output_type": "display_data",
          "data": {
            "text/plain": [
              "<Figure size 640x480 with 1 Axes>"
            ],
            "image/png": "[encoded data removed]"
          },
          "metadata": {}
        }
      ]
    },
    {
      "cell_type": "markdown",
      "source": [
        "Mirando el diagrama de caja, la edad no es tan importante en el nivel de cáncer. Aunque hay muchas variables para observar, podemos encontrar las más importantes usando el algoritmo SelectKBest con la estadística ANOVA F-ratio."
      ],
      "metadata": {
        "id": "9yLUZrTNcj5x"
      }
    },
    {
      "cell_type": "markdown",
      "source": [
        "Este método generará las puntuaciones de la relación F de todas las características y podemos determinar cuáles usar para el aprendizaje automático."
      ],
      "metadata": {
        "id": "cslUcTSljkmZ"
      }
    },
    {
      "cell_type": "code",
      "source": [
        "from sklearn.feature_selection import SelectKBest #Feature Selector\n",
        "from sklearn.feature_selection import f_classif #F-ratio statistic for categorical values"
      ],
      "metadata": {
        "id": "Fc5kADPLyoXS"
      },
      "execution_count": null,
      "outputs": []
    },
    {
      "cell_type": "code",
      "source": [
        "#Feature Selection\n",
        "X=df.drop(['Level','Patient Id'], axis=1)\n",
        "Y=df['Level']\n",
        "bestfeatures = SelectKBest(score_func=f_classif, k='all')\n",
        "fit = bestfeatures.fit(X,Y)\n",
        "dfscores = pd.DataFrame(fit.scores_)\n",
        "dfcolumns = pd.DataFrame(X.columns)\n",
        "#concat two dataframes for better visualization \n",
        "featureScores = pd.concat([dfcolumns,dfscores],axis=1)\n",
        "featureScores.columns = ['Feature','Score']  #naming the dataframe columns\n",
        "\n",
        "#Visualize the feature scores\n",
        "fig, ax=plt.subplots(figsize=(7,7))\n",
        "plot=sns.barplot(data=featureScores, x='Score', y='Feature', palette='viridis',linewidth=0.5, saturation=2, orient='h')\n",
        "plot"
      ],
      "metadata": {
        "colab": {
          "base_uri": "https://localhost:8080/",
          "height": 535
        },
        "id": "uOM3ZFQPJaUp",
        "outputId": "d1a33f86-84fd-4fc7-98eb-caf485919604"
      },
      "execution_count": null,
      "outputs": [
        {
          "output_type": "execute_result",
          "data": {
            "text/plain": [
              "<Axes: xlabel='Score', ylabel='Feature'>"
            ]
          },
          "metadata": {},
          "execution_count": 14
        },
        {
          "output_type": "display_data",
          "data": {
            "text/plain": [
              "<Figure size 700x700 with 1 Axes>"
            ],
            "image/png": "[encoded data removed]"
          },
          "metadata": {}
        }
      ]
    },
    {
      "cell_type": "markdown",
      "source": [
        "\n",
        "Tomaremos todas las características que obtuvieron más de 200 y que se muestran como las menos redundantes, es decir nos quedaremos con todas aquellas características que son más representativas."
      ],
      "metadata": {
        "id": "uc1Q64J9zR29"
      }
    },
    {
      "cell_type": "code",
      "source": [
        "#Selection method\n",
        "selection=featureScores[featureScores['Score']>=200]#Selects features that scored more than 200\n",
        "selection=list(selection['Feature'])#Generates the features into a list\n",
        "selection.append('Level')#Adding the Level string to be used to make new data frame\n",
        "new_cancer=df[selection] #New dataframe with selected features\n",
        "new_cancer.head() "
      ],
      "metadata": {
        "colab": {
          "base_uri": "https://localhost:8080/",
          "height": 302
        },
        "id": "-SMi9ZWGLTtH",
        "outputId": "e47b0ede-b872-4052-cfdd-5452446746fe"
      },
      "execution_count": null,
      "outputs": [
        {
          "output_type": "execute_result",
          "data": {
            "text/plain": [
              "   Air Pollution  Alcohol use  Dust Allergy  OccuPational Hazards  \\\n",
              "0              2            4             5                     4   \n",
              "1              3            1             5                     3   \n",
              "2              4            5             6                     5   \n",
              "3              7            7             7                     7   \n",
              "4              6            8             7                     7   \n",
              "\n",
              "   Genetic Risk  chronic Lung Disease  Balanced Diet  Obesity  Smoking  \\\n",
              "0             3                     2              2        4        3   \n",
              "1             4                     2              2        2        2   \n",
              "2             5                     4              6        7        2   \n",
              "3             6                     7              7        7        7   \n",
              "4             7                     6              7        7        8   \n",
              "\n",
              "   Passive Smoker  Chest Pain  Coughing of Blood  Fatigue  Level  \n",
              "0               2           2                  4        3      1  \n",
              "1               4           2                  3        1      2  \n",
              "2               3           4                  8        8      0  \n",
              "3               7           7                  8        4      0  \n",
              "4               7           7                  9        3      0  "
            ],
            "text/html": [
              "\n",
              "  <div id=\"df-0a82d9f2-563d-4a39-86b0-d161e07cd694\">\n",
              "    <div class=\"colab-df-container\">\n",
              "      <div>\n",
              "<style scoped>\n",
              "    .dataframe tbody tr th:only-of-type {\n",
              "        vertical-align: middle;\n",
              "    }\n",
              "\n",
              "    .dataframe tbody tr th {\n",
              "        vertical-align: top;\n",
              "    }\n",
              "\n",
              "    .dataframe thead th {\n",
              "        text-align: right;\n",
              "    }\n",
              "</style>\n",
              "<table border=\"1\" class=\"dataframe\">\n",
              "  <thead>\n",
              "    <tr style=\"text-align: right;\">\n",
              "      <th></th>\n",
              "      <th>Air Pollution</th>\n",
              "      <th>Alcohol use</th>\n",
              "      <th>Dust Allergy</th>\n",
              "      <th>OccuPational Hazards</th>\n",
              "      <th>Genetic Risk</th>\n",
              "      <th>chronic Lung Disease</th>\n",
              "      <th>Balanced Diet</th>\n",
              "      <th>Obesity</th>\n",
              "      <th>Smoking</th>\n",
              "      <th>Passive Smoker</th>\n",
              "      <th>Chest Pain</th>\n",
              "      <th>Coughing of Blood</th>\n",
              "      <th>Fatigue</th>\n",
              "      <th>Level</th>\n",
              "    </tr>\n",
              "  </thead>\n",
              "  <tbody>\n",
              "    <tr>\n",
              "      <th>0</th>\n",
              "      <td>2</td>\n",
              "      <td>4</td>\n",
              "      <td>5</td>\n",
              "      <td>4</td>\n",
              "      <td>3</td>\n",
              "      <td>2</td>\n",
              "      <td>2</td>\n",
              "      <td>4</td>\n",
              "      <td>3</td>\n",
              "      <td>2</td>\n",
              "      <td>2</td>\n",
              "      <td>4</td>\n",
              "      <td>3</td>\n",
              "      <td>1</td>\n",
              "    </tr>\n",
              "    <tr>\n",
              "      <th>1</th>\n",
              "      <td>3</td>\n",
              "      <td>1</td>\n",
              "      <td>5</td>\n",
              "      <td>3</td>\n",
              "      <td>4</td>\n",
              "      <td>2</td>\n",
              "      <td>2</td>\n",
              "      <td>2</td>\n",
              "      <td>2</td>\n",
              "      <td>4</td>\n",
              "      <td>2</td>\n",
              "      <td>3</td>\n",
              "      <td>1</td>\n",
              "      <td>2</td>\n",
              "    </tr>\n",
              "    <tr>\n",
              "      <th>2</th>\n",
              "      <td>4</td>\n",
              "      <td>5</td>\n",
              "      <td>6</td>\n",
              "      <td>5</td>\n",
              "      <td>5</td>\n",
              "      <td>4</td>\n",
              "      <td>6</td>\n",
              "      <td>7</td>\n",
              "      <td>2</td>\n",
              "      <td>3</td>\n",
              "      <td>4</td>\n",
              "      <td>8</td>\n",
              "      <td>8</td>\n",
              "      <td>0</td>\n",
              "    </tr>\n",
              "    <tr>\n",
              "      <th>3</th>\n",
              "      <td>7</td>\n",
              "      <td>7</td>\n",
              "      <td>7</td>\n",
              "      <td>7</td>\n",
              "      <td>6</td>\n",
              "      <td>7</td>\n",
              "      <td>7</td>\n",
              "      <td>7</td>\n",
              "      <td>7</td>\n",
              "      <td>7</td>\n",
              "      <td>7</td>\n",
              "      <td>8</td>\n",
              "      <td>4</td>\n",
              "      <td>0</td>\n",
              "    </tr>\n",
              "    <tr>\n",
              "      <th>4</th>\n",
              "      <td>6</td>\n",
              "      <td>8</td>\n",
              "      <td>7</td>\n",
              "      <td>7</td>\n",
              "      <td>7</td>\n",
              "      <td>6</td>\n",
              "      <td>7</td>\n",
              "      <td>7</td>\n",
              "      <td>8</td>\n",
              "      <td>7</td>\n",
              "      <td>7</td>\n",
              "      <td>9</td>\n",
              "      <td>3</td>\n",
              "      <td>0</td>\n",
              "    </tr>\n",
              "  </tbody>\n",
              "</table>\n",
              "</div>\n",
              "      <button class=\"colab-df-convert\" onclick=\"convertToInteractive('df-0a82d9f2-563d-4a39-86b0-d161e07cd694')\"\n",
              "              title=\"Convert this dataframe to an interactive table.\"\n",
              "              style=\"display:none;\">\n",
              "        \n",
              "  <svg xmlns=\"http://www.w3.org/2000/svg\" height=\"24px\"viewBox=\"0 0 24 24\"\n",
              "       width=\"24px\">\n",
              "    <path d=\"M0 0h24v24H0V0z\" fill=\"none\"/>\n",
              "    <path d=\"M18.56 5.44l.94 2.06.94-2.06 2.06-.94-2.06-.94-.94-2.06-.94 2.06-2.06.94zm-11 1L8.5 8.5l.94-2.06 2.06-.94-2.06-.94L8.5 2.5l-.94 2.06-2.06.94zm10 10l.94 2.06.94-2.06 2.06-.94-2.06-.94-.94-2.06-.94 2.06-2.06.94z\"/><path d=\"M17.41 7.96l-1.37-1.37c-.4-.4-.92-.59-1.43-.59-.52 0-1.04.2-1.43.59L10.3 9.45l-7.72 7.72c-.78.78-.78 2.05 0 2.83L4 21.41c.39.39.9.59 1.41.59.51 0 1.02-.2 1.41-.59l7.78-7.78 2.81-2.81c.8-.78.8-2.07 0-2.86zM5.41 20L4 18.59l7.72-7.72 1.47 1.35L5.41 20z\"/>\n",
              "  </svg>\n",
              "      </button>\n",
              "      \n",
              "  <style>\n",
              "    .colab-df-container {\n",
              "      display:flex;\n",
              "      flex-wrap:wrap;\n",
              "      gap: 12px;\n",
              "    }\n",
              "\n",
              "    .colab-df-convert {\n",
              "      background-color: #E8F0FE;\n",
              "      border: none;\n",
              "      border-radius: 50%;\n",
              "      cursor: pointer;\n",
              "      display: none;\n",
              "      fill: #1967D2;\n",
              "      height: 32px;\n",
              "      padding: 0 0 0 0;\n",
              "      width: 32px;\n",
              "    }\n",
              "\n",
              "    .colab-df-convert:hover {\n",
              "      background-color: #E2EBFA;\n",
              "      box-shadow: 0px 1px 2px rgba(60, 64, 67, 0.3), 0px 1px 3px 1px rgba(60, 64, 67, 0.15);\n",
              "      fill: #174EA6;\n",
              "    }\n",
              "\n",
              "    [theme=dark] .colab-df-convert {\n",
              "      background-color: #3B4455;\n",
              "      fill: #D2E3FC;\n",
              "    }\n",
              "\n",
              "    [theme=dark] .colab-df-convert:hover {\n",
              "      background-color: #434B5C;\n",
              "      box-shadow: 0px 1px 3px 1px rgba(0, 0, 0, 0.15);\n",
              "      filter: drop-shadow(0px 1px 2px rgba(0, 0, 0, 0.3));\n",
              "      fill: #FFFFFF;\n",
              "    }\n",
              "  </style>\n",
              "\n",
              "      <script>\n",
              "        const buttonEl =\n",
              "          document.querySelector('#df-0a82d9f2-563d-4a39-86b0-d161e07cd694 button.colab-df-convert');\n",
              "        buttonEl.style.display =\n",
              "          google.colab.kernel.accessAllowed ? 'block' : 'none';\n",
              "\n",
              "        async function convertToInteractive(key) {\n",
              "          const element = document.querySelector('#df-0a82d9f2-563d-4a39-86b0-d161e07cd694');\n",
              "          const dataTable =\n",
              "            await google.colab.kernel.invokeFunction('convertToInteractive',\n",
              "                                                     [key], {});\n",
              "          if (!dataTable) return;\n",
              "\n",
              "          const docLinkHtml = 'Like what you see? Visit the ' +\n",
              "            '<a target=\"_blank\" href=https://colab.research.google.com/notebooks/data_table.ipynb>data table notebook</a>'\n",
              "            + ' to learn more about interactive tables.';\n",
              "          element.innerHTML = '';\n",
              "          dataTable['output_type'] = 'display_data';\n",
              "          await google.colab.output.renderOutput(dataTable, element);\n",
              "          const docLink = document.createElement('div');\n",
              "          docLink.innerHTML = docLinkHtml;\n",
              "          element.appendChild(docLink);\n",
              "        }\n",
              "      </script>\n",
              "    </div>\n",
              "  </div>\n",
              "  "
            ]
          },
          "metadata": {},
          "execution_count": 15
        }
      ]
    },
    {
      "cell_type": "markdown",
      "source": [
        "Se seleccionaron 13 características y creamos un nuevo  data frame para dar cuenta de ellas."
      ],
      "metadata": {
        "id": "FPNvoN0PL-vs"
      }
    },
    {
      "cell_type": "markdown",
      "source": [
        "## **Dividimos los datos**\n",
        "Primero, los datos se dividirán para que podamos entrenar un modelo escalado\n",
        "para aplicarlo a un conjunto de datos (de prueba) desconocido. Guardaremos el 25% de los datos para la prueba."
      ],
      "metadata": {
        "id": "QDBUOc2hkDy_"
      }
    },
    {
      "cell_type": "code",
      "source": [
        "from sklearn.model_selection import train_test_split\n",
        "\n",
        "X_train,X_test,y_train,y_test = train_test_split(new_cancer.drop(['Level'], axis=1), new_cancer['Level'],test_size=0.25, random_state=0)\n",
        "\n",
        "#Checking the shapes\n",
        "print(\"X_train shape :\",X_train.shape)\n",
        "print(\"Y_train shape :\",y_train.shape)\n",
        "print(\"X_test shape :\",X_test.shape)\n",
        "print(\"Y_test shape :\",y_test.shape)"
      ],
      "metadata": {
        "colab": {
          "base_uri": "https://localhost:8080/"
        },
        "id": "yRuDf2MERZ16",
        "outputId": "746bb9a6-3162-4697-ab88-19a1f1611765"
      },
      "execution_count": null,
      "outputs": [
        {
          "output_type": "stream",
          "name": "stdout",
          "text": [
            "X_train shape : (750, 13)\n",
            "Y_train shape : (750,)\n",
            "X_test shape : (250, 13)\n",
            "Y_test shape : (250,)\n"
          ]
        }
      ]
    },
    {
      "cell_type": "markdown",
      "source": [
        "Preprocesamiento de escalado\n",
        "A continuación, los datos serán escalados, lo cual nos puede ayudar a reducir el efecto de los valores atípicos al modelar más adelante."
      ],
      "metadata": {
        "id": "TdoYfFdQk5Gq"
      }
    },
    {
      "cell_type": "code",
      "source": [
        "from sklearn import preprocessing\n",
        "scaler=preprocessing.StandardScaler()\n",
        "\n",
        "X_train_scaled=scaler.fit_transform(X_train) #Scaling and fitting the training set to a model\n",
        "X_test_scaled=scaler.transform(X_test) #Transformation of testing set based off of trained scaler model"
      ],
      "metadata": {
        "id": "xqrP3B-tRrzS"
      },
      "execution_count": null,
      "outputs": []
    },
    {
      "cell_type": "markdown",
      "source": [
        "**Machine Learning with SVM and Grid/Randomization Search**\n",
        "\n",
        "Aprendizaje automático con SVM y cuadrícula/búsqueda aleatoria\n",
        "Para el modelado usaremos SVC. Los SVC pueden manejar datos de dimensiones superiores y generar hiperplanos para separación y puntuación en base a sí (1) no (1). Los fallos se deciden en función de dónde aterriza un punto de datos dentro de un límite de decisión. Podemos evaluar múltiples parámetros a la vez usando las funciones de búsqueda de cuadrícula o de aleatorización. Grid Search evalúa varios parámetros de entrada en todas las combinaciones de entrada, mientras que la búsqueda aleatoria busca lo mejor. La validación cruzada es la autoevaluación de los modelos cuando se trata de encontrar los mejores parámetros en los datos de entrenamiento y se puede realizar en una cantidad de \"n\" repeticiones. Configuraremos dos funciones: una para las búsquedas y otra para las matrices de confusión."
      ],
      "metadata": {
        "id": "voxF8jdzliMk"
      }
    },
    {
      "cell_type": "code",
      "source": [
        "from sklearn.svm import SVC #Classifier\n",
        "#Packages\n",
        "\n",
        "from sklearn.model_selection import cross_val_score, RandomizedSearchCV, GridSearchCV #Paramterizers\n",
        "from sklearn.metrics import accuracy_score, classification_report, confusion_matrix #Accuracy metrics\n",
        "import itertools #Used for iterations"
      ],
      "metadata": {
        "id": "EIyhbz8wSKtF"
      },
      "execution_count": null,
      "outputs": []
    },
    {
      "cell_type": "markdown",
      "source": [
        "# **Busqueda de la función. Ajustes hiperparámetros**\n",
        "\n",
        "Esta es una función de ayuda para ajustar hiperparámetros usando los dos métodos de búsqueda.\n",
        "Los métodos deben ser GridSearchCV o RandomizedSearchCV."
      ],
      "metadata": {
        "id": "JQzPFDP6JxBv"
      }
    },
    {
      "cell_type": "code",
      "source": [
        "def Searcher(estimator, param_grid, search, train_x, train_y, test_x, test_y,label=None):\n",
        "    \n",
        "    \n",
        "    try:\n",
        "        if search == \"grid\":\n",
        "            clf = GridSearchCV(\n",
        "                estimator=estimator, \n",
        "                param_grid=param_grid, \n",
        "                scoring=None,\n",
        "                n_jobs=-1, \n",
        "                cv=10, #Cross-validation at 10 replicates\n",
        "                verbose=0,\n",
        "                return_train_score=True\n",
        "            )\n",
        "        elif search == \"random\":           \n",
        "            clf = RandomizedSearchCV(\n",
        "                estimator=estimator,\n",
        "                param_distributions=param_grid,\n",
        "                n_iter=10,\n",
        "                n_jobs=-1,\n",
        "                cv=10,\n",
        "                verbose=0,\n",
        "                random_state=1,\n",
        "                return_train_score=True\n",
        "            )\n",
        "    except:\n",
        "        print('Search argument has to be \"grid\" or \"random\"')\n",
        "        sys.exit(0) #Exits program if not grid or random\n",
        "        \n",
        "    # Fit the model\n",
        "    clf.fit(X=train_x, y=train_y)\n",
        "    \n",
        "    #Testing the model\n",
        "    \n",
        "    try:\n",
        "        if search=='grid':\n",
        "            cfmatrix=confusion_matrix(\n",
        "            y_true=test_y, y_pred=clf.predict(test_x))\n",
        "        \n",
        "            #Defining prints for accuracy metrics of grid\n",
        "            print(\"**Grid search results of\", label,\"**\")\n",
        "            print(\"The best parameters are:\",clf.best_params_)\n",
        "            print(\"Best training accuracy:\\t\", clf.best_score_)\n",
        "            print('Classification Report:')\n",
        "            print(classification_report(y_true=test_y, y_pred=clf.predict(test_x))\n",
        "             )\n",
        "        elif search == 'random':\n",
        "            cfmatrix=confusion_matrix(\n",
        "            y_true=test_y, y_pred=clf.predict(test_x))\n",
        "\n",
        "            #Defining prints for accuracy metrics of grid\n",
        "          \n",
        "            print(\"**Random search results of\", label,\"**\")\n",
        "            print(\"The best parameters are:\",clf.best_params_)\n",
        "            print(\"Best training accuracy:\\t\", clf.best_score_)\n",
        "            print('Classification Report:')\n",
        "            print(classification_report(y_true=test_y, y_pred=clf.predict(test_x))\n",
        "             )\n",
        "    except:\n",
        "        print('Search argument has to be \"grid\" or \"random\"')\n",
        "        sys.exit(0) #Exits program if not grid or random\n",
        "        \n",
        "    return clf, cfmatrix; #Returns a trained classifier with best parameters"
      ],
      "metadata": {
        "id": "300TqI9rIGhT"
      },
      "execution_count": null,
      "outputs": []
    },
    {
      "cell_type": "markdown",
      "source": [
        "# **Función de la matriz de confusión**"
      ],
      "metadata": {
        "id": "O4FM2sGhKOeK"
      }
    },
    {
      "cell_type": "code",
      "source": [
        "def plot_confusion_matrix(cm, label,color=None,title=None):\n",
        "  \n",
        "    \n",
        "    classes=sorted(label)\n",
        "    plt.imshow(cm, interpolation='nearest', cmap=color)\n",
        "    plt.title(title)\n",
        "    tick_marks = np.arange(len(classes))\n",
        "    plt.xticks(tick_marks, classes, rotation=0)\n",
        "    plt.yticks(tick_marks, classes)\n",
        "    plt.ylabel('Actual')\n",
        "    plt.xlabel('Predicted')\n",
        "    thresh = cm.mean()\n",
        "    for i, j in itertools.product(range(cm.shape[0]), range(cm.shape[1])):\n",
        "        plt.text(j, i, format(cm[i, j]), \n",
        "                 horizontalalignment=\"center\",\n",
        "                 color=\"white\" if cm[i, j] < thresh else \"black\") "
      ],
      "metadata": {
        "id": "8NLFXxcqKDh1"
      },
      "execution_count": null,
      "outputs": []
    },
    {
      "cell_type": "code",
      "source": [
        "svm_param = {\n",
        "    \"C\": [.01, .1, 1, 5, 10, 100], #Specific parameters to be tested at all combinations\n",
        "    \"gamma\": [0, .01, .1, 1, 5, 10, 100],\n",
        "    \"kernel\": [\"rbf\",\"linear\", \"poly\"],\n",
        "    \"random_state\": [1]}\n",
        "\n",
        "#Randomized Grid Search SVM Parameters\n",
        "svm_dist = {\n",
        "    \"C\": np.arange(0.01,2, 0.01),   #By using np.arange it will select from randomized values\n",
        "    \"gamma\": np.arange(0,1, 0.01),\n",
        "    \"kernel\": [\"rbf\",\"linear\", \"poly\"],\n",
        "    \"random_state\": [1]}\n",
        "\n",
        "\n",
        "#Grid Search SVM\n",
        "svm_grid, cfmatrix_grid= Searcher(SVC(), svm_param, \"grid\", X_train_scaled, y_train, X_test_scaled, y_test,label='SVC Grid')\n",
        "\n",
        "print('_____'*20)#Spacer\n",
        "\n",
        "#Random Search SVM\n",
        "svm_rand, cfmatrix_rand= Searcher(SVC(), svm_dist, \"random\", X_train_scaled, y_train, X_test_scaled, y_test,label='SVC Random')\n",
        "\n",
        "#Plotting the confusion matrices\n",
        "plt.subplots(1,2)\n",
        "plt.subplots_adjust(left=-0.5, bottom=None, right=None, top=None, wspace=0.5, hspace=None)\n",
        "plot_confusion_matrix(cfmatrix_rand, title='Random Search Confusion Matrix',label=new_cancer['Level'].unique(), color=plt.cm.Greens) #grid matrix function\n",
        "plt.subplot(121)\n",
        "plot_confusion_matrix(cfmatrix_grid, title='Grid Search Confusion Matrix', label=new_cancer['Level'].unique(), color=plt.cm.Blues) #randomized matrix function\n",
        "\n",
        "plt.savefig('confusion.png')"
      ],
      "metadata": {
        "id": "LQwYCB-tKTtn",
        "colab": {
          "base_uri": "https://localhost:8080/",
          "height": 823
        },
        "outputId": "7257ea45-6c37-40d1-c74c-b3d28867da0a"
      },
      "execution_count": null,
      "outputs": [
        {
          "output_type": "stream",
          "name": "stdout",
          "text": [
            "**Grid search results of SVC Grid **\n",
            "The best parameters are: {'C': 0.01, 'gamma': 1, 'kernel': 'poly', 'random_state': 1}\n",
            "Best training accuracy:\t 1.0\n",
            "Classification Report:\n",
            "              precision    recall  f1-score   support\n",
            "\n",
            "           0       1.00      1.00      1.00        91\n",
            "           1       1.00      1.00      1.00        85\n",
            "           2       1.00      1.00      1.00        74\n",
            "\n",
            "    accuracy                           1.00       250\n",
            "   macro avg       1.00      1.00      1.00       250\n",
            "weighted avg       1.00      1.00      1.00       250\n",
            "\n",
            "____________________________________________________________________________________________________\n",
            "**Random search results of SVC Random **\n",
            "The best parameters are: {'random_state': 1, 'kernel': 'poly', 'gamma': 0.3, 'C': 0.18000000000000002}\n",
            "Best training accuracy:\t 1.0\n",
            "Classification Report:\n",
            "              precision    recall  f1-score   support\n",
            "\n",
            "           0       1.00      1.00      1.00        91\n",
            "           1       1.00      1.00      1.00        85\n",
            "           2       1.00      1.00      1.00        74\n",
            "\n",
            "    accuracy                           1.00       250\n",
            "   macro avg       1.00      1.00      1.00       250\n",
            "weighted avg       1.00      1.00      1.00       250\n",
            "\n"
          ]
        },
        {
          "output_type": "display_data",
          "data": {
            "text/plain": [
              "<Figure size 640x480 with 2 Axes>"
            ],
            "image/png": "[encoded data removed]"
          },
          "metadata": {}
        }
      ]
    },
    {
      "cell_type": "markdown",
      "source": [
        " Como podemos ver, ambas búsquedas proporcionaron un 100% de precisión. De manera similar, al usar la métrica de un puntaje f1, hubo un 100 % de precisión que muestra que el modelo está muy bien construido. En este caso voy a comprobar si es cierto que este sería el mejor modelo o si existe otro modelo que se adapte mejor. Para ello vamos a realizar un nuevo análisis de nuestros datos con Pycatet."
      ],
      "metadata": {
        "id": "D7iQNRlqfUNM"
      }
    },
    {
      "cell_type": "markdown",
      "source": [
        "# **Analisis con Pycaret**"
      ],
      "metadata": {
        "id": "D38eWpMSLE4g"
      }
    },
    {
      "cell_type": "markdown",
      "source": [
        "En primer lugar procedemos a instalar las librerias necesarias para poder realizar el análisis con esta librería y de esta forma poder comprobar si hay otros algoritmos que se adapten mejor a mi dataset."
      ],
      "metadata": {
        "id": "2PY01a-hglws"
      }
    },
    {
      "cell_type": "code",
      "source": [
        "!pip install pycaret[full]"
      ],
      "metadata": {
        "id": "Qm1kBgcoETkT"
      },
      "execution_count": null,
      "outputs": []
    },
    {
      "cell_type": "markdown",
      "source": [
        "### **Inicializamos el Setup**"
      ],
      "metadata": {
        "id": "1myIChhZkWZb"
      }
    },
    {
      "cell_type": "code",
      "source": [
        "#!pip install mlflow\n",
        "\n",
        "#import mlflow\n",
        "from pycaret.classification import *\n",
        "\n",
        "#clf1 = setup(df , target = 'Target Name', log_experiment = True, experiment_name = 'name experiment')\n",
        "\n",
        "s = setup(df, target = 'Level',\n",
        "         normalize = True,\n",
        "          fix_imbalance = True,\n",
        "          transformation = True\n",
        "         )"
      ],
      "metadata": {
        "colab": {
          "base_uri": "https://localhost:8080/",
          "height": 948
        },
        "id": "Lvt72GZKE3lE",
        "outputId": "47fbc875-8da3-4c33-c736-b3456f93ded7"
      },
      "execution_count": 5,
      "outputs": [
        {
          "output_type": "display_data",
          "data": {
            "text/plain": [
              "<pandas.io.formats.style.Styler at 0x7f54742647f0>"
            ],
            "text/html": [
              "<style type=\"text/css\">\n",
              "#T_04330_row10_col1, #T_04330_row16_col1, #T_04330_row18_col1, #T_04330_row20_col1 {\n",
              "  background-color: lightgreen;\n",
              "}\n",
              "</style>\n",
              "<table id=\"T_04330\" class=\"dataframe\">\n",
              "  <thead>\n",
              "    <tr>\n",
              "      <th class=\"blank level0\" >&nbsp;</th>\n",
              "      <th id=\"T_04330_level0_col0\" class=\"col_heading level0 col0\" >Description</th>\n",
              "      <th id=\"T_04330_level0_col1\" class=\"col_heading level0 col1\" >Value</th>\n",
              "    </tr>\n",
              "  </thead>\n",
              "  <tbody>\n",
              "    <tr>\n",
              "      <th id=\"T_04330_level0_row0\" class=\"row_heading level0 row0\" >0</th>\n",
              "      <td id=\"T_04330_row0_col0\" class=\"data row0 col0\" >Session id</td>\n",
              "      <td id=\"T_04330_row0_col1\" class=\"data row0 col1\" >8430</td>\n",
              "    </tr>\n",
              "    <tr>\n",
              "      <th id=\"T_04330_level0_row1\" class=\"row_heading level0 row1\" >1</th>\n",
              "      <td id=\"T_04330_row1_col0\" class=\"data row1 col0\" >Target</td>\n",
              "      <td id=\"T_04330_row1_col1\" class=\"data row1 col1\" >Level</td>\n",
              "    </tr>\n",
              "    <tr>\n",
              "      <th id=\"T_04330_level0_row2\" class=\"row_heading level0 row2\" >2</th>\n",
              "      <td id=\"T_04330_row2_col0\" class=\"data row2 col0\" >Target type</td>\n",
              "      <td id=\"T_04330_row2_col1\" class=\"data row2 col1\" >Multiclass</td>\n",
              "    </tr>\n",
              "    <tr>\n",
              "      <th id=\"T_04330_level0_row3\" class=\"row_heading level0 row3\" >3</th>\n",
              "      <td id=\"T_04330_row3_col0\" class=\"data row3 col0\" >Target mapping</td>\n",
              "      <td id=\"T_04330_row3_col1\" class=\"data row3 col1\" >High: 0, Low: 1, Medium: 2</td>\n",
              "    </tr>\n",
              "    <tr>\n",
              "      <th id=\"T_04330_level0_row4\" class=\"row_heading level0 row4\" >4</th>\n",
              "      <td id=\"T_04330_row4_col0\" class=\"data row4 col0\" >Original data shape</td>\n",
              "      <td id=\"T_04330_row4_col1\" class=\"data row4 col1\" >(1000, 25)</td>\n",
              "    </tr>\n",
              "    <tr>\n",
              "      <th id=\"T_04330_level0_row5\" class=\"row_heading level0 row5\" >5</th>\n",
              "      <td id=\"T_04330_row5_col0\" class=\"data row5 col0\" >Transformed data shape</td>\n",
              "      <td id=\"T_04330_row5_col1\" class=\"data row5 col1\" >(1068, 25)</td>\n",
              "    </tr>\n",
              "    <tr>\n",
              "      <th id=\"T_04330_level0_row6\" class=\"row_heading level0 row6\" >6</th>\n",
              "      <td id=\"T_04330_row6_col0\" class=\"data row6 col0\" >Transformed train set shape</td>\n",
              "      <td id=\"T_04330_row6_col1\" class=\"data row6 col1\" >(768, 25)</td>\n",
              "    </tr>\n",
              "    <tr>\n",
              "      <th id=\"T_04330_level0_row7\" class=\"row_heading level0 row7\" >7</th>\n",
              "      <td id=\"T_04330_row7_col0\" class=\"data row7 col0\" >Transformed test set shape</td>\n",
              "      <td id=\"T_04330_row7_col1\" class=\"data row7 col1\" >(300, 25)</td>\n",
              "    </tr>\n",
              "    <tr>\n",
              "      <th id=\"T_04330_level0_row8\" class=\"row_heading level0 row8\" >8</th>\n",
              "      <td id=\"T_04330_row8_col0\" class=\"data row8 col0\" >Numeric features</td>\n",
              "      <td id=\"T_04330_row8_col1\" class=\"data row8 col1\" >23</td>\n",
              "    </tr>\n",
              "    <tr>\n",
              "      <th id=\"T_04330_level0_row9\" class=\"row_heading level0 row9\" >9</th>\n",
              "      <td id=\"T_04330_row9_col0\" class=\"data row9 col0\" >Categorical features</td>\n",
              "      <td id=\"T_04330_row9_col1\" class=\"data row9 col1\" >1</td>\n",
              "    </tr>\n",
              "    <tr>\n",
              "      <th id=\"T_04330_level0_row10\" class=\"row_heading level0 row10\" >10</th>\n",
              "      <td id=\"T_04330_row10_col0\" class=\"data row10 col0\" >Preprocess</td>\n",
              "      <td id=\"T_04330_row10_col1\" class=\"data row10 col1\" >True</td>\n",
              "    </tr>\n",
              "    <tr>\n",
              "      <th id=\"T_04330_level0_row11\" class=\"row_heading level0 row11\" >11</th>\n",
              "      <td id=\"T_04330_row11_col0\" class=\"data row11 col0\" >Imputation type</td>\n",
              "      <td id=\"T_04330_row11_col1\" class=\"data row11 col1\" >simple</td>\n",
              "    </tr>\n",
              "    <tr>\n",
              "      <th id=\"T_04330_level0_row12\" class=\"row_heading level0 row12\" >12</th>\n",
              "      <td id=\"T_04330_row12_col0\" class=\"data row12 col0\" >Numeric imputation</td>\n",
              "      <td id=\"T_04330_row12_col1\" class=\"data row12 col1\" >mean</td>\n",
              "    </tr>\n",
              "    <tr>\n",
              "      <th id=\"T_04330_level0_row13\" class=\"row_heading level0 row13\" >13</th>\n",
              "      <td id=\"T_04330_row13_col0\" class=\"data row13 col0\" >Categorical imputation</td>\n",
              "      <td id=\"T_04330_row13_col1\" class=\"data row13 col1\" >mode</td>\n",
              "    </tr>\n",
              "    <tr>\n",
              "      <th id=\"T_04330_level0_row14\" class=\"row_heading level0 row14\" >14</th>\n",
              "      <td id=\"T_04330_row14_col0\" class=\"data row14 col0\" >Maximum one-hot encoding</td>\n",
              "      <td id=\"T_04330_row14_col1\" class=\"data row14 col1\" >25</td>\n",
              "    </tr>\n",
              "    <tr>\n",
              "      <th id=\"T_04330_level0_row15\" class=\"row_heading level0 row15\" >15</th>\n",
              "      <td id=\"T_04330_row15_col0\" class=\"data row15 col0\" >Encoding method</td>\n",
              "      <td id=\"T_04330_row15_col1\" class=\"data row15 col1\" >None</td>\n",
              "    </tr>\n",
              "    <tr>\n",
              "      <th id=\"T_04330_level0_row16\" class=\"row_heading level0 row16\" >16</th>\n",
              "      <td id=\"T_04330_row16_col0\" class=\"data row16 col0\" >Fix imbalance</td>\n",
              "      <td id=\"T_04330_row16_col1\" class=\"data row16 col1\" >True</td>\n",
              "    </tr>\n",
              "    <tr>\n",
              "      <th id=\"T_04330_level0_row17\" class=\"row_heading level0 row17\" >17</th>\n",
              "      <td id=\"T_04330_row17_col0\" class=\"data row17 col0\" >Fix imbalance method</td>\n",
              "      <td id=\"T_04330_row17_col1\" class=\"data row17 col1\" >SMOTE</td>\n",
              "    </tr>\n",
              "    <tr>\n",
              "      <th id=\"T_04330_level0_row18\" class=\"row_heading level0 row18\" >18</th>\n",
              "      <td id=\"T_04330_row18_col0\" class=\"data row18 col0\" >Transformation</td>\n",
              "      <td id=\"T_04330_row18_col1\" class=\"data row18 col1\" >True</td>\n",
              "    </tr>\n",
              "    <tr>\n",
              "      <th id=\"T_04330_level0_row19\" class=\"row_heading level0 row19\" >19</th>\n",
              "      <td id=\"T_04330_row19_col0\" class=\"data row19 col0\" >Transformation method</td>\n",
              "      <td id=\"T_04330_row19_col1\" class=\"data row19 col1\" >yeo-johnson</td>\n",
              "    </tr>\n",
              "    <tr>\n",
              "      <th id=\"T_04330_level0_row20\" class=\"row_heading level0 row20\" >20</th>\n",
              "      <td id=\"T_04330_row20_col0\" class=\"data row20 col0\" >Normalize</td>\n",
              "      <td id=\"T_04330_row20_col1\" class=\"data row20 col1\" >True</td>\n",
              "    </tr>\n",
              "    <tr>\n",
              "      <th id=\"T_04330_level0_row21\" class=\"row_heading level0 row21\" >21</th>\n",
              "      <td id=\"T_04330_row21_col0\" class=\"data row21 col0\" >Normalize method</td>\n",
              "      <td id=\"T_04330_row21_col1\" class=\"data row21 col1\" >zscore</td>\n",
              "    </tr>\n",
              "    <tr>\n",
              "      <th id=\"T_04330_level0_row22\" class=\"row_heading level0 row22\" >22</th>\n",
              "      <td id=\"T_04330_row22_col0\" class=\"data row22 col0\" >Fold Generator</td>\n",
              "      <td id=\"T_04330_row22_col1\" class=\"data row22 col1\" >StratifiedKFold</td>\n",
              "    </tr>\n",
              "    <tr>\n",
              "      <th id=\"T_04330_level0_row23\" class=\"row_heading level0 row23\" >23</th>\n",
              "      <td id=\"T_04330_row23_col0\" class=\"data row23 col0\" >Fold Number</td>\n",
              "      <td id=\"T_04330_row23_col1\" class=\"data row23 col1\" >10</td>\n",
              "    </tr>\n",
              "    <tr>\n",
              "      <th id=\"T_04330_level0_row24\" class=\"row_heading level0 row24\" >24</th>\n",
              "      <td id=\"T_04330_row24_col0\" class=\"data row24 col0\" >CPU Jobs</td>\n",
              "      <td id=\"T_04330_row24_col1\" class=\"data row24 col1\" >-1</td>\n",
              "    </tr>\n",
              "    <tr>\n",
              "      <th id=\"T_04330_level0_row25\" class=\"row_heading level0 row25\" >25</th>\n",
              "      <td id=\"T_04330_row25_col0\" class=\"data row25 col0\" >Use GPU</td>\n",
              "      <td id=\"T_04330_row25_col1\" class=\"data row25 col1\" >False</td>\n",
              "    </tr>\n",
              "    <tr>\n",
              "      <th id=\"T_04330_level0_row26\" class=\"row_heading level0 row26\" >26</th>\n",
              "      <td id=\"T_04330_row26_col0\" class=\"data row26 col0\" >Log Experiment</td>\n",
              "      <td id=\"T_04330_row26_col1\" class=\"data row26 col1\" >False</td>\n",
              "    </tr>\n",
              "    <tr>\n",
              "      <th id=\"T_04330_level0_row27\" class=\"row_heading level0 row27\" >27</th>\n",
              "      <td id=\"T_04330_row27_col0\" class=\"data row27 col0\" >Experiment Name</td>\n",
              "      <td id=\"T_04330_row27_col1\" class=\"data row27 col1\" >clf-default-name</td>\n",
              "    </tr>\n",
              "    <tr>\n",
              "      <th id=\"T_04330_level0_row28\" class=\"row_heading level0 row28\" >28</th>\n",
              "      <td id=\"T_04330_row28_col0\" class=\"data row28 col0\" >USI</td>\n",
              "      <td id=\"T_04330_row28_col1\" class=\"data row28 col1\" >5a82</td>\n",
              "    </tr>\n",
              "  </tbody>\n",
              "</table>\n"
            ]
          },
          "metadata": {}
        }
      ]
    },
    {
      "cell_type": "markdown",
      "source": [
        "Vemos todos los modelos que tenemos disponibles para ver cual se adaptaria mejor y mediante models seleccionamos los modelos que en principio mejor se adaptarian a nuestros datos, para posteriormente entrenar alguno de ellos y ver los resultados."
      ],
      "metadata": {
        "id": "UnWlhV-flHAt"
      }
    },
    {
      "cell_type": "code",
      "source": [
        "models()"
      ],
      "metadata": {
        "colab": {
          "base_uri": "https://localhost:8080/",
          "height": 669
        },
        "id": "UrJ5GjWbJCIl",
        "outputId": "0cac9a80-514e-495c-c963-774cb88ee732"
      },
      "execution_count": 6,
      "outputs": [
        {
          "output_type": "execute_result",
          "data": {
            "text/plain": [
              "                                     Name  \\\n",
              "ID                                          \n",
              "lr                    Logistic Regression   \n",
              "knn                K Neighbors Classifier   \n",
              "nb                            Naive Bayes   \n",
              "dt               Decision Tree Classifier   \n",
              "svm                   SVM - Linear Kernel   \n",
              "rbfsvm                SVM - Radial Kernel   \n",
              "gpc           Gaussian Process Classifier   \n",
              "mlp                        MLP Classifier   \n",
              "ridge                    Ridge Classifier   \n",
              "rf               Random Forest Classifier   \n",
              "qda       Quadratic Discriminant Analysis   \n",
              "ada                  Ada Boost Classifier   \n",
              "gbc          Gradient Boosting Classifier   \n",
              "lda          Linear Discriminant Analysis   \n",
              "et                 Extra Trees Classifier   \n",
              "xgboost         Extreme Gradient Boosting   \n",
              "lightgbm  Light Gradient Boosting Machine   \n",
              "catboost              CatBoost Classifier   \n",
              "dummy                    Dummy Classifier   \n",
              "\n",
              "                                                  Reference  Turbo  \n",
              "ID                                                                  \n",
              "lr        sklearn.linear_model._logistic.LogisticRegression   True  \n",
              "knn       sklearn.neighbors._classification.KNeighborsCl...   True  \n",
              "nb                           sklearn.naive_bayes.GaussianNB   True  \n",
              "dt             sklearn.tree._classes.DecisionTreeClassifier   True  \n",
              "svm       sklearn.linear_model._stochastic_gradient.SGDC...   True  \n",
              "rbfsvm                             sklearn.svm._classes.SVC  False  \n",
              "gpc       sklearn.gaussian_process._gpc.GaussianProcessC...  False  \n",
              "mlp       sklearn.neural_network._multilayer_perceptron....  False  \n",
              "ridge           sklearn.linear_model._ridge.RidgeClassifier   True  \n",
              "rf          sklearn.ensemble._forest.RandomForestClassifier   True  \n",
              "qda       sklearn.discriminant_analysis.QuadraticDiscrim...   True  \n",
              "ada       sklearn.ensemble._weight_boosting.AdaBoostClas...   True  \n",
              "gbc         sklearn.ensemble._gb.GradientBoostingClassifier   True  \n",
              "lda       sklearn.discriminant_analysis.LinearDiscrimina...   True  \n",
              "et            sklearn.ensemble._forest.ExtraTreesClassifier   True  \n",
              "xgboost                       xgboost.sklearn.XGBClassifier   True  \n",
              "lightgbm                    lightgbm.sklearn.LGBMClassifier   True  \n",
              "catboost                   catboost.core.CatBoostClassifier   True  \n",
              "dummy                         sklearn.dummy.DummyClassifier   True  "
            ],
            "text/html": [
              "\n",
              "  <div id=\"df-0904d628-1768-465c-8ecc-cfefcaf178d5\">\n",
              "    <div class=\"colab-df-container\">\n",
              "      <div>\n",
              "<style scoped>\n",
              "    .dataframe tbody tr th:only-of-type {\n",
              "        vertical-align: middle;\n",
              "    }\n",
              "\n",
              "    .dataframe tbody tr th {\n",
              "        vertical-align: top;\n",
              "    }\n",
              "\n",
              "    .dataframe thead th {\n",
              "        text-align: right;\n",
              "    }\n",
              "</style>\n",
              "<table border=\"1\" class=\"dataframe\">\n",
              "  <thead>\n",
              "    <tr style=\"text-align: right;\">\n",
              "      <th></th>\n",
              "      <th>Name</th>\n",
              "      <th>Reference</th>\n",
              "      <th>Turbo</th>\n",
              "    </tr>\n",
              "    <tr>\n",
              "      <th>ID</th>\n",
              "      <th></th>\n",
              "      <th></th>\n",
              "      <th></th>\n",
              "    </tr>\n",
              "  </thead>\n",
              "  <tbody>\n",
              "    <tr>\n",
              "      <th>lr</th>\n",
              "      <td>Logistic Regression</td>\n",
              "      <td>sklearn.linear_model._logistic.LogisticRegression</td>\n",
              "      <td>True</td>\n",
              "    </tr>\n",
              "    <tr>\n",
              "      <th>knn</th>\n",
              "      <td>K Neighbors Classifier</td>\n",
              "      <td>sklearn.neighbors._classification.KNeighborsCl...</td>\n",
              "      <td>True</td>\n",
              "    </tr>\n",
              "    <tr>\n",
              "      <th>nb</th>\n",
              "      <td>Naive Bayes</td>\n",
              "      <td>sklearn.naive_bayes.GaussianNB</td>\n",
              "      <td>True</td>\n",
              "    </tr>\n",
              "    <tr>\n",
              "      <th>dt</th>\n",
              "      <td>Decision Tree Classifier</td>\n",
              "      <td>sklearn.tree._classes.DecisionTreeClassifier</td>\n",
              "      <td>True</td>\n",
              "    </tr>\n",
              "    <tr>\n",
              "      <th>svm</th>\n",
              "      <td>SVM - Linear Kernel</td>\n",
              "      <td>sklearn.linear_model._stochastic_gradient.SGDC...</td>\n",
              "      <td>True</td>\n",
              "    </tr>\n",
              "    <tr>\n",
              "      <th>rbfsvm</th>\n",
              "      <td>SVM - Radial Kernel</td>\n",
              "      <td>sklearn.svm._classes.SVC</td>\n",
              "      <td>False</td>\n",
              "    </tr>\n",
              "    <tr>\n",
              "      <th>gpc</th>\n",
              "      <td>Gaussian Process Classifier</td>\n",
              "      <td>sklearn.gaussian_process._gpc.GaussianProcessC...</td>\n",
              "      <td>False</td>\n",
              "    </tr>\n",
              "    <tr>\n",
              "      <th>mlp</th>\n",
              "      <td>MLP Classifier</td>\n",
              "      <td>sklearn.neural_network._multilayer_perceptron....</td>\n",
              "      <td>False</td>\n",
              "    </tr>\n",
              "    <tr>\n",
              "      <th>ridge</th>\n",
              "      <td>Ridge Classifier</td>\n",
              "      <td>sklearn.linear_model._ridge.RidgeClassifier</td>\n",
              "      <td>True</td>\n",
              "    </tr>\n",
              "    <tr>\n",
              "      <th>rf</th>\n",
              "      <td>Random Forest Classifier</td>\n",
              "      <td>sklearn.ensemble._forest.RandomForestClassifier</td>\n",
              "      <td>True</td>\n",
              "    </tr>\n",
              "    <tr>\n",
              "      <th>qda</th>\n",
              "      <td>Quadratic Discriminant Analysis</td>\n",
              "      <td>sklearn.discriminant_analysis.QuadraticDiscrim...</td>\n",
              "      <td>True</td>\n",
              "    </tr>\n",
              "    <tr>\n",
              "      <th>ada</th>\n",
              "      <td>Ada Boost Classifier</td>\n",
              "      <td>sklearn.ensemble._weight_boosting.AdaBoostClas...</td>\n",
              "      <td>True</td>\n",
              "    </tr>\n",
              "    <tr>\n",
              "      <th>gbc</th>\n",
              "      <td>Gradient Boosting Classifier</td>\n",
              "      <td>sklearn.ensemble._gb.GradientBoostingClassifier</td>\n",
              "      <td>True</td>\n",
              "    </tr>\n",
              "    <tr>\n",
              "      <th>lda</th>\n",
              "      <td>Linear Discriminant Analysis</td>\n",
              "      <td>sklearn.discriminant_analysis.LinearDiscrimina...</td>\n",
              "      <td>True</td>\n",
              "    </tr>\n",
              "    <tr>\n",
              "      <th>et</th>\n",
              "      <td>Extra Trees Classifier</td>\n",
              "      <td>sklearn.ensemble._forest.ExtraTreesClassifier</td>\n",
              "      <td>True</td>\n",
              "    </tr>\n",
              "    <tr>\n",
              "      <th>xgboost</th>\n",
              "      <td>Extreme Gradient Boosting</td>\n",
              "      <td>xgboost.sklearn.XGBClassifier</td>\n",
              "      <td>True</td>\n",
              "    </tr>\n",
              "    <tr>\n",
              "      <th>lightgbm</th>\n",
              "      <td>Light Gradient Boosting Machine</td>\n",
              "      <td>lightgbm.sklearn.LGBMClassifier</td>\n",
              "      <td>True</td>\n",
              "    </tr>\n",
              "    <tr>\n",
              "      <th>catboost</th>\n",
              "      <td>CatBoost Classifier</td>\n",
              "      <td>catboost.core.CatBoostClassifier</td>\n",
              "      <td>True</td>\n",
              "    </tr>\n",
              "    <tr>\n",
              "      <th>dummy</th>\n",
              "      <td>Dummy Classifier</td>\n",
              "      <td>sklearn.dummy.DummyClassifier</td>\n",
              "      <td>True</td>\n",
              "    </tr>\n",
              "  </tbody>\n",
              "</table>\n",
              "</div>\n",
              "      <button class=\"colab-df-convert\" onclick=\"convertToInteractive('df-0904d628-1768-465c-8ecc-cfefcaf178d5')\"\n",
              "              title=\"Convert this dataframe to an interactive table.\"\n",
              "              style=\"display:none;\">\n",
              "        \n",
              "  <svg xmlns=\"http://www.w3.org/2000/svg\" height=\"24px\"viewBox=\"0 0 24 24\"\n",
              "       width=\"24px\">\n",
              "    <path d=\"M0 0h24v24H0V0z\" fill=\"none\"/>\n",
              "    <path d=\"M18.56 5.44l.94 2.06.94-2.06 2.06-.94-2.06-.94-.94-2.06-.94 2.06-2.06.94zm-11 1L8.5 8.5l.94-2.06 2.06-.94-2.06-.94L8.5 2.5l-.94 2.06-2.06.94zm10 10l.94 2.06.94-2.06 2.06-.94-2.06-.94-.94-2.06-.94 2.06-2.06.94z\"/><path d=\"M17.41 7.96l-1.37-1.37c-.4-.4-.92-.59-1.43-.59-.52 0-1.04.2-1.43.59L10.3 9.45l-7.72 7.72c-.78.78-.78 2.05 0 2.83L4 21.41c.39.39.9.59 1.41.59.51 0 1.02-.2 1.41-.59l7.78-7.78 2.81-2.81c.8-.78.8-2.07 0-2.86zM5.41 20L4 18.59l7.72-7.72 1.47 1.35L5.41 20z\"/>\n",
              "  </svg>\n",
              "      </button>\n",
              "      \n",
              "  <style>\n",
              "    .colab-df-container {\n",
              "      display:flex;\n",
              "      flex-wrap:wrap;\n",
              "      gap: 12px;\n",
              "    }\n",
              "\n",
              "    .colab-df-convert {\n",
              "      background-color: #E8F0FE;\n",
              "      border: none;\n",
              "      border-radius: 50%;\n",
              "      cursor: pointer;\n",
              "      display: none;\n",
              "      fill: #1967D2;\n",
              "      height: 32px;\n",
              "      padding: 0 0 0 0;\n",
              "      width: 32px;\n",
              "    }\n",
              "\n",
              "    .colab-df-convert:hover {\n",
              "      background-color: #E2EBFA;\n",
              "      box-shadow: 0px 1px 2px rgba(60, 64, 67, 0.3), 0px 1px 3px 1px rgba(60, 64, 67, 0.15);\n",
              "      fill: #174EA6;\n",
              "    }\n",
              "\n",
              "    [theme=dark] .colab-df-convert {\n",
              "      background-color: #3B4455;\n",
              "      fill: #D2E3FC;\n",
              "    }\n",
              "\n",
              "    [theme=dark] .colab-df-convert:hover {\n",
              "      background-color: #434B5C;\n",
              "      box-shadow: 0px 1px 3px 1px rgba(0, 0, 0, 0.15);\n",
              "      filter: drop-shadow(0px 1px 2px rgba(0, 0, 0, 0.3));\n",
              "      fill: #FFFFFF;\n",
              "    }\n",
              "  </style>\n",
              "\n",
              "      <script>\n",
              "        const buttonEl =\n",
              "          document.querySelector('#df-0904d628-1768-465c-8ecc-cfefcaf178d5 button.colab-df-convert');\n",
              "        buttonEl.style.display =\n",
              "          google.colab.kernel.accessAllowed ? 'block' : 'none';\n",
              "\n",
              "        async function convertToInteractive(key) {\n",
              "          const element = document.querySelector('#df-0904d628-1768-465c-8ecc-cfefcaf178d5');\n",
              "          const dataTable =\n",
              "            await google.colab.kernel.invokeFunction('convertToInteractive',\n",
              "                                                     [key], {});\n",
              "          if (!dataTable) return;\n",
              "\n",
              "          const docLinkHtml = 'Like what you see? Visit the ' +\n",
              "            '<a target=\"_blank\" href=https://colab.research.google.com/notebooks/data_table.ipynb>data table notebook</a>'\n",
              "            + ' to learn more about interactive tables.';\n",
              "          element.innerHTML = '';\n",
              "          dataTable['output_type'] = 'display_data';\n",
              "          await google.colab.output.renderOutput(dataTable, element);\n",
              "          const docLink = document.createElement('div');\n",
              "          docLink.innerHTML = docLinkHtml;\n",
              "          element.appendChild(docLink);\n",
              "        }\n",
              "      </script>\n",
              "    </div>\n",
              "  </div>\n",
              "  "
            ]
          },
          "metadata": {},
          "execution_count": 6
        }
      ]
    },
    {
      "cell_type": "markdown",
      "source": [
        "### **Entrenamiento y selección de modelos**"
      ],
      "metadata": {
        "id": "4sHlfCGlk2pe"
      }
    },
    {
      "cell_type": "markdown",
      "source": [
        "En primer lugar realizamos el entrenemiento de los modelos para poder seleccionar el modelo que mejor se adapta a nuestros datos."
      ],
      "metadata": {
        "id": "gNmg3xJq2NAf"
      }
    },
    {
      "cell_type": "code",
      "source": [
        "xgboost = create_model('xgboost')"
      ],
      "metadata": {
        "id": "FenR1TJ2JNxA"
      },
      "execution_count": null,
      "outputs": []
    },
    {
      "cell_type": "code",
      "source": [
        "print(xgboost)"
      ],
      "metadata": {
        "colab": {
          "base_uri": "https://localhost:8080/"
        },
        "id": "kMXfbEQKhr_e",
        "outputId": "c64d17dc-3632-4457-b01e-a37524f5ce02"
      },
      "execution_count": 7,
      "outputs": [
        {
          "output_type": "stream",
          "name": "stdout",
          "text": [
            "XGBClassifier(base_score=None, booster='gbtree', callbacks=None,\n",
            "              colsample_bylevel=None, colsample_bynode=None,\n",
            "              colsample_bytree=None, early_stopping_rounds=None,\n",
            "              enable_categorical=False, eval_metric=None, feature_types=None,\n",
            "              gamma=None, gpu_id=None, grow_policy=None, importance_type=None,\n",
            "              interaction_constraints=None, learning_rate=None, max_bin=None,\n",
            "              max_cat_threshold=None, max_cat_to_onehot=None,\n",
            "              max_delta_step=None, max_depth=None, max_leaves=None,\n",
            "              min_child_weight=None, missing=nan, monotone_constraints=None,\n",
            "              n_estimators=100, n_jobs=-1, num_parallel_tree=None,\n",
            "              objective='multi:softprob', predictor=None, ...)\n"
          ]
        }
      ]
    },
    {
      "cell_type": "markdown",
      "source": [
        "### **Comparación de modelos**"
      ],
      "metadata": {
        "id": "UH2pLZgbjhJT"
      }
    },
    {
      "cell_type": "markdown",
      "source": [
        "En primer lugar comparamos entre diferentes modelos para ver cual de ellos funciona mejor con nuestros datos. En nuestro caso podemos ver que los modelos que nos dan mejores resultados son: \n",
        "\n",
        "\n",
        "*   El modelo K Neighbors Classifier: este algoritmo esta basado en instancias de tipo supervisado.Puede usarse para clasificar nuevas muestras (valores discretos) o para predecir (regresión, valores continuos).Sirve esencialmente para clasificar valores buscando los puntos de datos “más similares” (por cercanía) aprendidos en la etapa de entrenamiento y haciendo conjeturas de nuevos puntos basado en esa clasificación.\n",
        "*   Modelo Random Forest Classifier: este tipo de modelos están formados por un conjunto de árboles de decisión individuales, cada uno entrenado con una muestra aleatoria extraída de los datos de entrenamiento originales mediante bootstrapping. Esto implica que cada árbol se entrena con unos datos ligeramente distintos. En cada árbol individual, las observaciones se van distribuyendo por bifurcaciones (nodos) generando la estructura del árbol hasta alcanzar un nodo terminal. La predicción de una nueva observación se obtiene agregando las predicciones de todos los árboles individuales que forman el modelo.\n",
        "\n"
      ],
      "metadata": {
        "id": "j2OBT4vsjxaS"
      }
    },
    {
      "cell_type": "code",
      "source": [
        "# compare all models\n",
        "best_model = compare_models()"
      ],
      "metadata": {
        "colab": {
          "base_uri": "https://localhost:8080/",
          "height": 545,
          "referenced_widgets": [
            "53dc546dd17c44afa26dd355974ccc1c",
            "505ce13c710346e49252429601ce2076",
            "810e57e0b1a64cbfb9c132165d14d270",
            "65934015b91e420d924c7fa3ad9f6356",
            "58c9b31e724545b29ca1c8a01e06f1dd",
            "4021a15b310348699da5a087b8b1a6ce",
            "a6104bc8c1d041b8948382af0d82ee12",
            "2453dafd77894370a48deac299084b78",
            "bf5534706cdb4a79ad377be68cdc3085",
            "f163fdaf74764912ad50ad9c6d6c67ce",
            "33f9643d71f14800910301ac5af53797"
          ]
        },
        "id": "Fc9vgS07JjON",
        "outputId": "6f2766fc-7145-409a-dded-43ff6b02741e"
      },
      "execution_count": 7,
      "outputs": [
        {
          "output_type": "display_data",
          "data": {
            "text/plain": [
              "<IPython.core.display.HTML object>"
            ],
            "text/html": []
          },
          "metadata": {}
        },
        {
          "output_type": "display_data",
          "data": {
            "text/plain": [
              "<pandas.io.formats.style.Styler at 0x7f54c4c1d210>"
            ],
            "text/html": [
              "<style type=\"text/css\">\n",
              "#T_fc0f4 th {\n",
              "  text-align: left;\n",
              "}\n",
              "#T_fc0f4_row0_col0, #T_fc0f4_row1_col0, #T_fc0f4_row1_col1, #T_fc0f4_row1_col3, #T_fc0f4_row1_col4, #T_fc0f4_row1_col5, #T_fc0f4_row1_col6, #T_fc0f4_row1_col7, #T_fc0f4_row2_col0, #T_fc0f4_row2_col1, #T_fc0f4_row2_col3, #T_fc0f4_row2_col4, #T_fc0f4_row2_col5, #T_fc0f4_row2_col6, #T_fc0f4_row2_col7, #T_fc0f4_row3_col0, #T_fc0f4_row3_col1, #T_fc0f4_row3_col2, #T_fc0f4_row3_col3, #T_fc0f4_row3_col4, #T_fc0f4_row3_col5, #T_fc0f4_row3_col6, #T_fc0f4_row3_col7, #T_fc0f4_row4_col0, #T_fc0f4_row4_col1, #T_fc0f4_row4_col2, #T_fc0f4_row4_col3, #T_fc0f4_row4_col4, #T_fc0f4_row4_col5, #T_fc0f4_row4_col6, #T_fc0f4_row4_col7, #T_fc0f4_row5_col0, #T_fc0f4_row5_col1, #T_fc0f4_row5_col2, #T_fc0f4_row5_col3, #T_fc0f4_row5_col4, #T_fc0f4_row5_col5, #T_fc0f4_row5_col6, #T_fc0f4_row5_col7, #T_fc0f4_row6_col0, #T_fc0f4_row6_col1, #T_fc0f4_row6_col2, #T_fc0f4_row6_col3, #T_fc0f4_row6_col4, #T_fc0f4_row6_col5, #T_fc0f4_row6_col6, #T_fc0f4_row6_col7, #T_fc0f4_row7_col0, #T_fc0f4_row7_col1, #T_fc0f4_row7_col2, #T_fc0f4_row7_col3, #T_fc0f4_row7_col4, #T_fc0f4_row7_col5, #T_fc0f4_row7_col6, #T_fc0f4_row7_col7, #T_fc0f4_row8_col0, #T_fc0f4_row8_col1, #T_fc0f4_row8_col2, #T_fc0f4_row8_col3, #T_fc0f4_row8_col4, #T_fc0f4_row8_col5, #T_fc0f4_row8_col6, #T_fc0f4_row8_col7, #T_fc0f4_row9_col0, #T_fc0f4_row9_col1, #T_fc0f4_row9_col2, #T_fc0f4_row9_col3, #T_fc0f4_row9_col4, #T_fc0f4_row9_col5, #T_fc0f4_row9_col6, #T_fc0f4_row9_col7, #T_fc0f4_row10_col0, #T_fc0f4_row10_col1, #T_fc0f4_row10_col2, #T_fc0f4_row10_col3, #T_fc0f4_row10_col4, #T_fc0f4_row10_col5, #T_fc0f4_row10_col6, #T_fc0f4_row10_col7, #T_fc0f4_row11_col0, #T_fc0f4_row11_col1, #T_fc0f4_row11_col2, #T_fc0f4_row11_col3, #T_fc0f4_row11_col4, #T_fc0f4_row11_col5, #T_fc0f4_row11_col6, #T_fc0f4_row11_col7, #T_fc0f4_row12_col0, #T_fc0f4_row12_col1, #T_fc0f4_row12_col2, #T_fc0f4_row12_col3, #T_fc0f4_row12_col4, #T_fc0f4_row12_col5, #T_fc0f4_row12_col6, #T_fc0f4_row12_col7, #T_fc0f4_row13_col0, #T_fc0f4_row13_col1, #T_fc0f4_row13_col2, #T_fc0f4_row13_col3, #T_fc0f4_row13_col4, #T_fc0f4_row13_col5, #T_fc0f4_row13_col6, #T_fc0f4_row13_col7, #T_fc0f4_row14_col0, #T_fc0f4_row14_col1, #T_fc0f4_row14_col2, #T_fc0f4_row14_col3, #T_fc0f4_row14_col4, #T_fc0f4_row14_col5, #T_fc0f4_row14_col6, #T_fc0f4_row14_col7, #T_fc0f4_row15_col0, #T_fc0f4_row15_col1, #T_fc0f4_row15_col2, #T_fc0f4_row15_col3, #T_fc0f4_row15_col4, #T_fc0f4_row15_col5, #T_fc0f4_row15_col6, #T_fc0f4_row15_col7 {\n",
              "  text-align: left;\n",
              "}\n",
              "#T_fc0f4_row0_col1, #T_fc0f4_row0_col2, #T_fc0f4_row0_col3, #T_fc0f4_row0_col4, #T_fc0f4_row0_col5, #T_fc0f4_row0_col6, #T_fc0f4_row0_col7, #T_fc0f4_row1_col2, #T_fc0f4_row2_col2 {\n",
              "  text-align: left;\n",
              "  background-color: yellow;\n",
              "}\n",
              "#T_fc0f4_row0_col8, #T_fc0f4_row1_col8, #T_fc0f4_row2_col8, #T_fc0f4_row3_col8, #T_fc0f4_row4_col8, #T_fc0f4_row6_col8, #T_fc0f4_row7_col8, #T_fc0f4_row8_col8, #T_fc0f4_row9_col8, #T_fc0f4_row10_col8, #T_fc0f4_row11_col8, #T_fc0f4_row12_col8, #T_fc0f4_row13_col8, #T_fc0f4_row14_col8, #T_fc0f4_row15_col8 {\n",
              "  text-align: left;\n",
              "  background-color: lightgrey;\n",
              "}\n",
              "#T_fc0f4_row5_col8 {\n",
              "  text-align: left;\n",
              "  background-color: yellow;\n",
              "  background-color: lightgrey;\n",
              "}\n",
              "</style>\n",
              "<table id=\"T_fc0f4\" class=\"dataframe\">\n",
              "  <thead>\n",
              "    <tr>\n",
              "      <th class=\"blank level0\" >&nbsp;</th>\n",
              "      <th id=\"T_fc0f4_level0_col0\" class=\"col_heading level0 col0\" >Model</th>\n",
              "      <th id=\"T_fc0f4_level0_col1\" class=\"col_heading level0 col1\" >Accuracy</th>\n",
              "      <th id=\"T_fc0f4_level0_col2\" class=\"col_heading level0 col2\" >AUC</th>\n",
              "      <th id=\"T_fc0f4_level0_col3\" class=\"col_heading level0 col3\" >Recall</th>\n",
              "      <th id=\"T_fc0f4_level0_col4\" class=\"col_heading level0 col4\" >Prec.</th>\n",
              "      <th id=\"T_fc0f4_level0_col5\" class=\"col_heading level0 col5\" >F1</th>\n",
              "      <th id=\"T_fc0f4_level0_col6\" class=\"col_heading level0 col6\" >Kappa</th>\n",
              "      <th id=\"T_fc0f4_level0_col7\" class=\"col_heading level0 col7\" >MCC</th>\n",
              "      <th id=\"T_fc0f4_level0_col8\" class=\"col_heading level0 col8\" >TT (Sec)</th>\n",
              "    </tr>\n",
              "  </thead>\n",
              "  <tbody>\n",
              "    <tr>\n",
              "      <th id=\"T_fc0f4_level0_row0\" class=\"row_heading level0 row0\" >knn</th>\n",
              "      <td id=\"T_fc0f4_row0_col0\" class=\"data row0 col0\" >K Neighbors Classifier</td>\n",
              "      <td id=\"T_fc0f4_row0_col1\" class=\"data row0 col1\" >1.0000</td>\n",
              "      <td id=\"T_fc0f4_row0_col2\" class=\"data row0 col2\" >1.0000</td>\n",
              "      <td id=\"T_fc0f4_row0_col3\" class=\"data row0 col3\" >1.0000</td>\n",
              "      <td id=\"T_fc0f4_row0_col4\" class=\"data row0 col4\" >1.0000</td>\n",
              "      <td id=\"T_fc0f4_row0_col5\" class=\"data row0 col5\" >1.0000</td>\n",
              "      <td id=\"T_fc0f4_row0_col6\" class=\"data row0 col6\" >1.0000</td>\n",
              "      <td id=\"T_fc0f4_row0_col7\" class=\"data row0 col7\" >1.0000</td>\n",
              "      <td id=\"T_fc0f4_row0_col8\" class=\"data row0 col8\" >0.4110</td>\n",
              "    </tr>\n",
              "    <tr>\n",
              "      <th id=\"T_fc0f4_level0_row1\" class=\"row_heading level0 row1\" >et</th>\n",
              "      <td id=\"T_fc0f4_row1_col0\" class=\"data row1 col0\" >Extra Trees Classifier</td>\n",
              "      <td id=\"T_fc0f4_row1_col1\" class=\"data row1 col1\" >0.9886</td>\n",
              "      <td id=\"T_fc0f4_row1_col2\" class=\"data row1 col2\" >1.0000</td>\n",
              "      <td id=\"T_fc0f4_row1_col3\" class=\"data row1 col3\" >0.9886</td>\n",
              "      <td id=\"T_fc0f4_row1_col4\" class=\"data row1 col4\" >0.9904</td>\n",
              "      <td id=\"T_fc0f4_row1_col5\" class=\"data row1 col5\" >0.9885</td>\n",
              "      <td id=\"T_fc0f4_row1_col6\" class=\"data row1 col6\" >0.9828</td>\n",
              "      <td id=\"T_fc0f4_row1_col7\" class=\"data row1 col7\" >0.9837</td>\n",
              "      <td id=\"T_fc0f4_row1_col8\" class=\"data row1 col8\" >1.3690</td>\n",
              "    </tr>\n",
              "    <tr>\n",
              "      <th id=\"T_fc0f4_level0_row2\" class=\"row_heading level0 row2\" >rf</th>\n",
              "      <td id=\"T_fc0f4_row2_col0\" class=\"data row2 col0\" >Random Forest Classifier</td>\n",
              "      <td id=\"T_fc0f4_row2_col1\" class=\"data row2 col1\" >0.9829</td>\n",
              "      <td id=\"T_fc0f4_row2_col2\" class=\"data row2 col2\" >1.0000</td>\n",
              "      <td id=\"T_fc0f4_row2_col3\" class=\"data row2 col3\" >0.9829</td>\n",
              "      <td id=\"T_fc0f4_row2_col4\" class=\"data row2 col4\" >0.9854</td>\n",
              "      <td id=\"T_fc0f4_row2_col5\" class=\"data row2 col5\" >0.9827</td>\n",
              "      <td id=\"T_fc0f4_row2_col6\" class=\"data row2 col6\" >0.9743</td>\n",
              "      <td id=\"T_fc0f4_row2_col7\" class=\"data row2 col7\" >0.9756</td>\n",
              "      <td id=\"T_fc0f4_row2_col8\" class=\"data row2 col8\" >1.4240</td>\n",
              "    </tr>\n",
              "    <tr>\n",
              "      <th id=\"T_fc0f4_level0_row3\" class=\"row_heading level0 row3\" >lr</th>\n",
              "      <td id=\"T_fc0f4_row3_col0\" class=\"data row3 col0\" >Logistic Regression</td>\n",
              "      <td id=\"T_fc0f4_row3_col1\" class=\"data row3 col1\" >0.9100</td>\n",
              "      <td id=\"T_fc0f4_row3_col2\" class=\"data row3 col2\" >0.9945</td>\n",
              "      <td id=\"T_fc0f4_row3_col3\" class=\"data row3 col3\" >0.9100</td>\n",
              "      <td id=\"T_fc0f4_row3_col4\" class=\"data row3 col4\" >0.9273</td>\n",
              "      <td id=\"T_fc0f4_row3_col5\" class=\"data row3 col5\" >0.9066</td>\n",
              "      <td id=\"T_fc0f4_row3_col6\" class=\"data row3 col6\" >0.8649</td>\n",
              "      <td id=\"T_fc0f4_row3_col7\" class=\"data row3 col7\" >0.8752</td>\n",
              "      <td id=\"T_fc0f4_row3_col8\" class=\"data row3 col8\" >1.4670</td>\n",
              "    </tr>\n",
              "    <tr>\n",
              "      <th id=\"T_fc0f4_level0_row4\" class=\"row_heading level0 row4\" >svm</th>\n",
              "      <td id=\"T_fc0f4_row4_col0\" class=\"data row4 col0\" >SVM - Linear Kernel</td>\n",
              "      <td id=\"T_fc0f4_row4_col1\" class=\"data row4 col1\" >0.8400</td>\n",
              "      <td id=\"T_fc0f4_row4_col2\" class=\"data row4 col2\" >0.0000</td>\n",
              "      <td id=\"T_fc0f4_row4_col3\" class=\"data row4 col3\" >0.8400</td>\n",
              "      <td id=\"T_fc0f4_row4_col4\" class=\"data row4 col4\" >0.8712</td>\n",
              "      <td id=\"T_fc0f4_row4_col5\" class=\"data row4 col5\" >0.8185</td>\n",
              "      <td id=\"T_fc0f4_row4_col6\" class=\"data row4 col6\" >0.7603</td>\n",
              "      <td id=\"T_fc0f4_row4_col7\" class=\"data row4 col7\" >0.7853</td>\n",
              "      <td id=\"T_fc0f4_row4_col8\" class=\"data row4 col8\" >0.4500</td>\n",
              "    </tr>\n",
              "    <tr>\n",
              "      <th id=\"T_fc0f4_level0_row5\" class=\"row_heading level0 row5\" >ridge</th>\n",
              "      <td id=\"T_fc0f4_row5_col0\" class=\"data row5 col0\" >Ridge Classifier</td>\n",
              "      <td id=\"T_fc0f4_row5_col1\" class=\"data row5 col1\" >0.6686</td>\n",
              "      <td id=\"T_fc0f4_row5_col2\" class=\"data row5 col2\" >0.0000</td>\n",
              "      <td id=\"T_fc0f4_row5_col3\" class=\"data row5 col3\" >0.6686</td>\n",
              "      <td id=\"T_fc0f4_row5_col4\" class=\"data row5 col4\" >0.4510</td>\n",
              "      <td id=\"T_fc0f4_row5_col5\" class=\"data row5 col5\" >0.5375</td>\n",
              "      <td id=\"T_fc0f4_row5_col6\" class=\"data row5 col6\" >0.4983</td>\n",
              "      <td id=\"T_fc0f4_row5_col7\" class=\"data row5 col7\" >0.5798</td>\n",
              "      <td id=\"T_fc0f4_row5_col8\" class=\"data row5 col8\" >0.3860</td>\n",
              "    </tr>\n",
              "    <tr>\n",
              "      <th id=\"T_fc0f4_level0_row6\" class=\"row_heading level0 row6\" >catboost</th>\n",
              "      <td id=\"T_fc0f4_row6_col0\" class=\"data row6 col0\" >CatBoost Classifier</td>\n",
              "      <td id=\"T_fc0f4_row6_col1\" class=\"data row6 col1\" >0.4986</td>\n",
              "      <td id=\"T_fc0f4_row6_col2\" class=\"data row6 col2\" >0.8306</td>\n",
              "      <td id=\"T_fc0f4_row6_col3\" class=\"data row6 col3\" >0.4986</td>\n",
              "      <td id=\"T_fc0f4_row6_col4\" class=\"data row6 col4\" >0.4082</td>\n",
              "      <td id=\"T_fc0f4_row6_col5\" class=\"data row6 col5\" >0.3830</td>\n",
              "      <td id=\"T_fc0f4_row6_col6\" class=\"data row6 col6\" >0.2702</td>\n",
              "      <td id=\"T_fc0f4_row6_col7\" class=\"data row6 col7\" >0.3599</td>\n",
              "      <td id=\"T_fc0f4_row6_col8\" class=\"data row6 col8\" >3.2780</td>\n",
              "    </tr>\n",
              "    <tr>\n",
              "      <th id=\"T_fc0f4_level0_row7\" class=\"row_heading level0 row7\" >lightgbm</th>\n",
              "      <td id=\"T_fc0f4_row7_col0\" class=\"data row7 col0\" >Light Gradient Boosting Machine</td>\n",
              "      <td id=\"T_fc0f4_row7_col1\" class=\"data row7 col1\" >0.3657</td>\n",
              "      <td id=\"T_fc0f4_row7_col2\" class=\"data row7 col2\" >0.7833</td>\n",
              "      <td id=\"T_fc0f4_row7_col3\" class=\"data row7 col3\" >0.3657</td>\n",
              "      <td id=\"T_fc0f4_row7_col4\" class=\"data row7 col4\" >0.1338</td>\n",
              "      <td id=\"T_fc0f4_row7_col5\" class=\"data row7 col5\" >0.1959</td>\n",
              "      <td id=\"T_fc0f4_row7_col6\" class=\"data row7 col6\" >0.0000</td>\n",
              "      <td id=\"T_fc0f4_row7_col7\" class=\"data row7 col7\" >0.0000</td>\n",
              "      <td id=\"T_fc0f4_row7_col8\" class=\"data row7 col8\" >1.4100</td>\n",
              "    </tr>\n",
              "    <tr>\n",
              "      <th id=\"T_fc0f4_level0_row8\" class=\"row_heading level0 row8\" >dummy</th>\n",
              "      <td id=\"T_fc0f4_row8_col0\" class=\"data row8 col0\" >Dummy Classifier</td>\n",
              "      <td id=\"T_fc0f4_row8_col1\" class=\"data row8 col1\" >0.3657</td>\n",
              "      <td id=\"T_fc0f4_row8_col2\" class=\"data row8 col2\" >0.5000</td>\n",
              "      <td id=\"T_fc0f4_row8_col3\" class=\"data row8 col3\" >0.3657</td>\n",
              "      <td id=\"T_fc0f4_row8_col4\" class=\"data row8 col4\" >0.1338</td>\n",
              "      <td id=\"T_fc0f4_row8_col5\" class=\"data row8 col5\" >0.1959</td>\n",
              "      <td id=\"T_fc0f4_row8_col6\" class=\"data row8 col6\" >0.0000</td>\n",
              "      <td id=\"T_fc0f4_row8_col7\" class=\"data row8 col7\" >0.0000</td>\n",
              "      <td id=\"T_fc0f4_row8_col8\" class=\"data row8 col8\" >0.7810</td>\n",
              "    </tr>\n",
              "    <tr>\n",
              "      <th id=\"T_fc0f4_level0_row9\" class=\"row_heading level0 row9\" >gbc</th>\n",
              "      <td id=\"T_fc0f4_row9_col0\" class=\"data row9 col0\" >Gradient Boosting Classifier</td>\n",
              "      <td id=\"T_fc0f4_row9_col1\" class=\"data row9 col1\" >0.3186</td>\n",
              "      <td id=\"T_fc0f4_row9_col2\" class=\"data row9 col2\" >0.7735</td>\n",
              "      <td id=\"T_fc0f4_row9_col3\" class=\"data row9 col3\" >0.3186</td>\n",
              "      <td id=\"T_fc0f4_row9_col4\" class=\"data row9 col4\" >0.1158</td>\n",
              "      <td id=\"T_fc0f4_row9_col5\" class=\"data row9 col5\" >0.1625</td>\n",
              "      <td id=\"T_fc0f4_row9_col6\" class=\"data row9 col6\" >0.0201</td>\n",
              "      <td id=\"T_fc0f4_row9_col7\" class=\"data row9 col7\" >0.0263</td>\n",
              "      <td id=\"T_fc0f4_row9_col8\" class=\"data row9 col8\" >1.8190</td>\n",
              "    </tr>\n",
              "    <tr>\n",
              "      <th id=\"T_fc0f4_level0_row10\" class=\"row_heading level0 row10\" >xgboost</th>\n",
              "      <td id=\"T_fc0f4_row10_col0\" class=\"data row10 col0\" >Extreme Gradient Boosting</td>\n",
              "      <td id=\"T_fc0f4_row10_col1\" class=\"data row10 col1\" >0.3086</td>\n",
              "      <td id=\"T_fc0f4_row10_col2\" class=\"data row10 col2\" >0.8160</td>\n",
              "      <td id=\"T_fc0f4_row10_col3\" class=\"data row10 col3\" >0.3086</td>\n",
              "      <td id=\"T_fc0f4_row10_col4\" class=\"data row10 col4\" >0.1233</td>\n",
              "      <td id=\"T_fc0f4_row10_col5\" class=\"data row10 col5\" >0.1739</td>\n",
              "      <td id=\"T_fc0f4_row10_col6\" class=\"data row10 col6\" >0.0001</td>\n",
              "      <td id=\"T_fc0f4_row10_col7\" class=\"data row10 col7\" >-0.0008</td>\n",
              "      <td id=\"T_fc0f4_row10_col8\" class=\"data row10 col8\" >0.5730</td>\n",
              "    </tr>\n",
              "    <tr>\n",
              "      <th id=\"T_fc0f4_level0_row11\" class=\"row_heading level0 row11\" >nb</th>\n",
              "      <td id=\"T_fc0f4_row11_col0\" class=\"data row11 col0\" >Naive Bayes</td>\n",
              "      <td id=\"T_fc0f4_row11_col1\" class=\"data row11 col1\" >0.3029</td>\n",
              "      <td id=\"T_fc0f4_row11_col2\" class=\"data row11 col2\" >0.5000</td>\n",
              "      <td id=\"T_fc0f4_row11_col3\" class=\"data row11 col3\" >0.3029</td>\n",
              "      <td id=\"T_fc0f4_row11_col4\" class=\"data row11 col4\" >0.0918</td>\n",
              "      <td id=\"T_fc0f4_row11_col5\" class=\"data row11 col5\" >0.1408</td>\n",
              "      <td id=\"T_fc0f4_row11_col6\" class=\"data row11 col6\" >0.0000</td>\n",
              "      <td id=\"T_fc0f4_row11_col7\" class=\"data row11 col7\" >0.0000</td>\n",
              "      <td id=\"T_fc0f4_row11_col8\" class=\"data row11 col8\" >0.5450</td>\n",
              "    </tr>\n",
              "    <tr>\n",
              "      <th id=\"T_fc0f4_level0_row12\" class=\"row_heading level0 row12\" >dt</th>\n",
              "      <td id=\"T_fc0f4_row12_col0\" class=\"data row12 col0\" >Decision Tree Classifier</td>\n",
              "      <td id=\"T_fc0f4_row12_col1\" class=\"data row12 col1\" >0.3029</td>\n",
              "      <td id=\"T_fc0f4_row12_col2\" class=\"data row12 col2\" >0.5000</td>\n",
              "      <td id=\"T_fc0f4_row12_col3\" class=\"data row12 col3\" >0.3029</td>\n",
              "      <td id=\"T_fc0f4_row12_col4\" class=\"data row12 col4\" >0.0918</td>\n",
              "      <td id=\"T_fc0f4_row12_col5\" class=\"data row12 col5\" >0.1408</td>\n",
              "      <td id=\"T_fc0f4_row12_col6\" class=\"data row12 col6\" >0.0000</td>\n",
              "      <td id=\"T_fc0f4_row12_col7\" class=\"data row12 col7\" >0.0000</td>\n",
              "      <td id=\"T_fc0f4_row12_col8\" class=\"data row12 col8\" >0.8240</td>\n",
              "    </tr>\n",
              "    <tr>\n",
              "      <th id=\"T_fc0f4_level0_row13\" class=\"row_heading level0 row13\" >qda</th>\n",
              "      <td id=\"T_fc0f4_row13_col0\" class=\"data row13 col0\" >Quadratic Discriminant Analysis</td>\n",
              "      <td id=\"T_fc0f4_row13_col1\" class=\"data row13 col1\" >0.3029</td>\n",
              "      <td id=\"T_fc0f4_row13_col2\" class=\"data row13 col2\" >0.5000</td>\n",
              "      <td id=\"T_fc0f4_row13_col3\" class=\"data row13 col3\" >0.3029</td>\n",
              "      <td id=\"T_fc0f4_row13_col4\" class=\"data row13 col4\" >0.0918</td>\n",
              "      <td id=\"T_fc0f4_row13_col5\" class=\"data row13 col5\" >0.1408</td>\n",
              "      <td id=\"T_fc0f4_row13_col6\" class=\"data row13 col6\" >0.0000</td>\n",
              "      <td id=\"T_fc0f4_row13_col7\" class=\"data row13 col7\" >0.0000</td>\n",
              "      <td id=\"T_fc0f4_row13_col8\" class=\"data row13 col8\" >0.4570</td>\n",
              "    </tr>\n",
              "    <tr>\n",
              "      <th id=\"T_fc0f4_level0_row14\" class=\"row_heading level0 row14\" >ada</th>\n",
              "      <td id=\"T_fc0f4_row14_col0\" class=\"data row14 col0\" >Ada Boost Classifier</td>\n",
              "      <td id=\"T_fc0f4_row14_col1\" class=\"data row14 col1\" >0.3029</td>\n",
              "      <td id=\"T_fc0f4_row14_col2\" class=\"data row14 col2\" >0.5000</td>\n",
              "      <td id=\"T_fc0f4_row14_col3\" class=\"data row14 col3\" >0.3029</td>\n",
              "      <td id=\"T_fc0f4_row14_col4\" class=\"data row14 col4\" >0.0918</td>\n",
              "      <td id=\"T_fc0f4_row14_col5\" class=\"data row14 col5\" >0.1408</td>\n",
              "      <td id=\"T_fc0f4_row14_col6\" class=\"data row14 col6\" >0.0000</td>\n",
              "      <td id=\"T_fc0f4_row14_col7\" class=\"data row14 col7\" >0.0000</td>\n",
              "      <td id=\"T_fc0f4_row14_col8\" class=\"data row14 col8\" >0.7250</td>\n",
              "    </tr>\n",
              "    <tr>\n",
              "      <th id=\"T_fc0f4_level0_row15\" class=\"row_heading level0 row15\" >lda</th>\n",
              "      <td id=\"T_fc0f4_row15_col0\" class=\"data row15 col0\" >Linear Discriminant Analysis</td>\n",
              "      <td id=\"T_fc0f4_row15_col1\" class=\"data row15 col1\" >0.3029</td>\n",
              "      <td id=\"T_fc0f4_row15_col2\" class=\"data row15 col2\" >0.5000</td>\n",
              "      <td id=\"T_fc0f4_row15_col3\" class=\"data row15 col3\" >0.3029</td>\n",
              "      <td id=\"T_fc0f4_row15_col4\" class=\"data row15 col4\" >0.0918</td>\n",
              "      <td id=\"T_fc0f4_row15_col5\" class=\"data row15 col5\" >0.1408</td>\n",
              "      <td id=\"T_fc0f4_row15_col6\" class=\"data row15 col6\" >0.0000</td>\n",
              "      <td id=\"T_fc0f4_row15_col7\" class=\"data row15 col7\" >0.0000</td>\n",
              "      <td id=\"T_fc0f4_row15_col8\" class=\"data row15 col8\" >0.5170</td>\n",
              "    </tr>\n",
              "  </tbody>\n",
              "</table>\n"
            ]
          },
          "metadata": {}
        },
        {
          "output_type": "display_data",
          "data": {
            "text/plain": [
              "Processing:   0%|          | 0/69 [00:00<?, ?it/s]"
            ],
            "application/vnd.jupyter.widget-view+json": {
              "version_major": 2,
              "version_minor": 0,
              "model_id": "53dc546dd17c44afa26dd355974ccc1c"
            }
          },
          "metadata": {
            "application/vnd.jupyter.widget-view+json": {
              "colab": {
                "custom_widget_manager": {
                  "url": "https://ssl.gstatic.com/colaboratory-static/widgets/colab-cdn-widget-manager/b3e629b1971e1542/manager.min.js"
                }
              }
            }
          }
        },
        {
          "output_type": "display_data",
          "data": {
            "text/plain": [
              "<IPython.core.display.HTML object>"
            ],
            "text/html": []
          },
          "metadata": {}
        }
      ]
    },
    {
      "cell_type": "markdown",
      "source": [
        "Como podemos ver, se han entrenado 15 modelos diferentes y en cada uno de ellos se ha realizado KFold 10 veces.\n",
        "Como podemos ver modelo que en principio mejor se adapta a nuestros datos es el modelo K Neighborns Classifier. A continuación analizamos este modelos \n"
      ],
      "metadata": {
        "id": "F1gBM8vT3qgR"
      }
    },
    {
      "cell_type": "code",
      "source": [
        "print(best_model)"
      ],
      "metadata": {
        "colab": {
          "base_uri": "https://localhost:8080/"
        },
        "id": "pwH5fjguKJob",
        "outputId": "f1377369-a82e-43cd-a8c8-b0edbecdef04"
      },
      "execution_count": 9,
      "outputs": [
        {
          "output_type": "stream",
          "name": "stdout",
          "text": [
            "KNeighborsClassifier(algorithm='auto', leaf_size=30, metric='minkowski',\n",
            "                     metric_params=None, n_jobs=-1, n_neighbors=5, p=2,\n",
            "                     weights='uniform')\n"
          ]
        }
      ]
    },
    {
      "cell_type": "code",
      "source": [
        "pred_holdout = predict_model(best_model)"
      ],
      "metadata": {
        "colab": {
          "base_uri": "https://localhost:8080/",
          "height": 80
        },
        "id": "gkYdv3mXKQ1c",
        "outputId": "9572ffb5-a575-487d-cacc-8d7f6b3315b4"
      },
      "execution_count": 10,
      "outputs": [
        {
          "output_type": "display_data",
          "data": {
            "text/plain": [
              "<pandas.io.formats.style.Styler at 0x7f8154f151b0>"
            ],
            "text/html": [
              "<style type=\"text/css\">\n",
              "</style>\n",
              "<table id=\"T_7a8f2\" class=\"dataframe\">\n",
              "  <thead>\n",
              "    <tr>\n",
              "      <th class=\"blank level0\" >&nbsp;</th>\n",
              "      <th id=\"T_7a8f2_level0_col0\" class=\"col_heading level0 col0\" >Model</th>\n",
              "      <th id=\"T_7a8f2_level0_col1\" class=\"col_heading level0 col1\" >Accuracy</th>\n",
              "      <th id=\"T_7a8f2_level0_col2\" class=\"col_heading level0 col2\" >AUC</th>\n",
              "      <th id=\"T_7a8f2_level0_col3\" class=\"col_heading level0 col3\" >Recall</th>\n",
              "      <th id=\"T_7a8f2_level0_col4\" class=\"col_heading level0 col4\" >Prec.</th>\n",
              "      <th id=\"T_7a8f2_level0_col5\" class=\"col_heading level0 col5\" >F1</th>\n",
              "      <th id=\"T_7a8f2_level0_col6\" class=\"col_heading level0 col6\" >Kappa</th>\n",
              "      <th id=\"T_7a8f2_level0_col7\" class=\"col_heading level0 col7\" >MCC</th>\n",
              "    </tr>\n",
              "  </thead>\n",
              "  <tbody>\n",
              "    <tr>\n",
              "      <th id=\"T_7a8f2_level0_row0\" class=\"row_heading level0 row0\" >0</th>\n",
              "      <td id=\"T_7a8f2_row0_col0\" class=\"data row0 col0\" >K Neighbors Classifier</td>\n",
              "      <td id=\"T_7a8f2_row0_col1\" class=\"data row0 col1\" >1.0000</td>\n",
              "      <td id=\"T_7a8f2_row0_col2\" class=\"data row0 col2\" >1.0000</td>\n",
              "      <td id=\"T_7a8f2_row0_col3\" class=\"data row0 col3\" >1.0000</td>\n",
              "      <td id=\"T_7a8f2_row0_col4\" class=\"data row0 col4\" >1.0000</td>\n",
              "      <td id=\"T_7a8f2_row0_col5\" class=\"data row0 col5\" >1.0000</td>\n",
              "      <td id=\"T_7a8f2_row0_col6\" class=\"data row0 col6\" >1.0000</td>\n",
              "      <td id=\"T_7a8f2_row0_col7\" class=\"data row0 col7\" >1.0000</td>\n",
              "    </tr>\n",
              "  </tbody>\n",
              "</table>\n"
            ]
          },
          "metadata": {}
        }
      ]
    },
    {
      "cell_type": "code",
      "source": [
        "plot_model(best_model, plot = 'learning')"
      ],
      "metadata": {
        "colab": {
          "base_uri": "https://localhost:8080/",
          "height": 524
        },
        "id": "kSSIgg9GOUA1",
        "outputId": "75e13206-9178-4690-d20e-59ad2f811df8"
      },
      "execution_count": 11,
      "outputs": [
        {
          "output_type": "display_data",
          "data": {
            "text/plain": [
              "<IPython.core.display.HTML object>"
            ],
            "text/html": []
          },
          "metadata": {}
        },
        {
          "output_type": "display_data",
          "data": {
            "text/plain": [
              "<Figure size 800x550 with 1 Axes>"
            ],
            "image/png": "[encoded data removed]"
          },
          "metadata": {}
        }
      ]
    },
    {
      "cell_type": "markdown",
      "source": [
        "Como podemos ver , a medida que el modelo se ha ido entrenando ha ido mejorando su capacidad predictiva sobre datos nuevos (cross validation). Por tanto, parece que el modelo es capaz de generalizar de forma correcta."
      ],
      "metadata": {
        "id": "hhEY2nXE1GdB"
      }
    },
    {
      "cell_type": "markdown",
      "source": [
        "# **Obtención de la Api dockerizada con Pycaret y FastAPI**"
      ],
      "metadata": {
        "id": "VhPcFCDUIIxV"
      }
    },
    {
      "cell_type": "code",
      "source": [
        "!pip install pycaret[mlops]\n",
        "!pip install fastapi[all]\n",
        "\n"
      ],
      "metadata": {
        "id": "eLw1BEuo_qR9"
      },
      "execution_count": null,
      "outputs": []
    },
    {
      "cell_type": "code",
      "source": [
        "from pycaret.classification import create_api, create_docker\n",
        "\n",
        "create_api(best_model, 'knn')\n",
        "create_docker('knn')"
      ],
      "metadata": {
        "id": "m7IkdO5ume3v"
      },
      "execution_count": null,
      "outputs": []
    },
    {
      "cell_type": "code",
      "source": [
        "!docker image build -f \"Dockerfile\" -t IMAGE_NAME:IMAGE_TAG"
      ],
      "metadata": {
        "id": "ukz_auu0BonJ"
      },
      "execution_count": null,
      "outputs": []
    },
    {
      "cell_type": "markdown",
      "source": [
        "# **Resultados**"
      ],
      "metadata": {
        "id": "fqnO0SD0KqR8"
      }
    },
    {
      "cell_type": "markdown",
      "source": [
        "Como podemos ver, ambas búsquedas proporcionaron un 100% de precisión. De manera similar, al usar la métrica de un puntaje f1, hubo un 100 % de precisión que muestra que el modelo está muy bien construido.\n",
        "Finalmente para crear la aplicación me quedo con el modelo que nos ha dado el análisis de Pycaret, ya que como hemos podido ver en la comparación de modelos este modelo nos da mejores resultados.\n",
        "Para un futuro si que sería bueno poder comprobar este modelo con otro dataset el cual nos aporte más datos u otros datos diferentes con los cuales poder mejorar todo."
      ],
      "metadata": {
        "id": "9SQ7AbR6mMqF"
      }
    },
    {
      "cell_type": "markdown",
      "source": [
        "# **Bibliografía**\n",
        "\n",
        "- https://data.world/cancerdatahp/lung-cancer-data/workspace/file?filename=cancer+patient+level%20data+sets.xlsx\n",
        "- https://anderfernandez.com/blog/pycaret-low-code-machine-learning-en-python/\n",
        "- https://fastapi.tiangolo.com\n",
        "- https://pycaret.org\n",
        "- https://scikit-learn.org/stable/modules/generated/sklearn.feature_selection.SelectKBest.html"
      ],
      "metadata": {
        "id": "HqEdY97kK80O"
      }
    }
  ]
}